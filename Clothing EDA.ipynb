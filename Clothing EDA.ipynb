{
 "cells": [
  {
   "cell_type": "code",
   "execution_count": 1,
   "metadata": {},
   "outputs": [],
   "source": [
    "import numpy as np\n",
    "import pandas as pd\n",
    "import matplotlib.pyplot as plt\n",
    "%matplotlib inline "
   ]
  },
  {
   "cell_type": "code",
   "execution_count": 2,
   "metadata": {},
   "outputs": [],
   "source": [
    "import imageio\n",
    "import glob"
   ]
  },
  {
   "cell_type": "markdown",
   "metadata": {},
   "source": [
    "https://towardsdatascience.com/machine-learning-multiclass-classification-with-imbalanced-data-set-29f6a177c1a\n",
    "\n",
    "https://towardsdatascience.com/the-4-convolutional-neural-network-models-that-can-classify-your-fashion-images-9fe7f3e5399d\n",
    "\n",
    "T SNE\n",
    "\n"
   ]
  },
  {
   "cell_type": "code",
   "execution_count": 3,
   "metadata": {
    "scrolled": false
   },
   "outputs": [],
   "source": [
    "df = pd.read_csv('data/styles.csv', error_bad_lines=False)"
   ]
  },
  {
   "cell_type": "code",
   "execution_count": 4,
   "metadata": {},
   "outputs": [
    {
     "data": {
      "text/html": [
       "<div>\n",
       "<style scoped>\n",
       "    .dataframe tbody tr th:only-of-type {\n",
       "        vertical-align: middle;\n",
       "    }\n",
       "\n",
       "    .dataframe tbody tr th {\n",
       "        vertical-align: top;\n",
       "    }\n",
       "\n",
       "    .dataframe thead th {\n",
       "        text-align: right;\n",
       "    }\n",
       "</style>\n",
       "<table border=\"1\" class=\"dataframe\">\n",
       "  <thead>\n",
       "    <tr style=\"text-align: right;\">\n",
       "      <th></th>\n",
       "      <th>id</th>\n",
       "      <th>gender</th>\n",
       "      <th>masterCategory</th>\n",
       "      <th>subCategory</th>\n",
       "      <th>articleType</th>\n",
       "      <th>baseColour</th>\n",
       "      <th>season</th>\n",
       "      <th>year</th>\n",
       "      <th>usage</th>\n",
       "      <th>productDisplayName</th>\n",
       "    </tr>\n",
       "  </thead>\n",
       "  <tbody>\n",
       "    <tr>\n",
       "      <th>0</th>\n",
       "      <td>15970</td>\n",
       "      <td>Men</td>\n",
       "      <td>Apparel</td>\n",
       "      <td>Topwear</td>\n",
       "      <td>Shirts</td>\n",
       "      <td>Navy Blue</td>\n",
       "      <td>Fall</td>\n",
       "      <td>2011.0</td>\n",
       "      <td>Casual</td>\n",
       "      <td>Turtle Check Men Navy Blue Shirt</td>\n",
       "    </tr>\n",
       "    <tr>\n",
       "      <th>1</th>\n",
       "      <td>39386</td>\n",
       "      <td>Men</td>\n",
       "      <td>Apparel</td>\n",
       "      <td>Bottomwear</td>\n",
       "      <td>Jeans</td>\n",
       "      <td>Blue</td>\n",
       "      <td>Summer</td>\n",
       "      <td>2012.0</td>\n",
       "      <td>Casual</td>\n",
       "      <td>Peter England Men Party Blue Jeans</td>\n",
       "    </tr>\n",
       "    <tr>\n",
       "      <th>2</th>\n",
       "      <td>59263</td>\n",
       "      <td>Women</td>\n",
       "      <td>Accessories</td>\n",
       "      <td>Watches</td>\n",
       "      <td>Watches</td>\n",
       "      <td>Silver</td>\n",
       "      <td>Winter</td>\n",
       "      <td>2016.0</td>\n",
       "      <td>Casual</td>\n",
       "      <td>Titan Women Silver Watch</td>\n",
       "    </tr>\n",
       "    <tr>\n",
       "      <th>3</th>\n",
       "      <td>21379</td>\n",
       "      <td>Men</td>\n",
       "      <td>Apparel</td>\n",
       "      <td>Bottomwear</td>\n",
       "      <td>Track Pants</td>\n",
       "      <td>Black</td>\n",
       "      <td>Fall</td>\n",
       "      <td>2011.0</td>\n",
       "      <td>Casual</td>\n",
       "      <td>Manchester United Men Solid Black Track Pants</td>\n",
       "    </tr>\n",
       "    <tr>\n",
       "      <th>4</th>\n",
       "      <td>53759</td>\n",
       "      <td>Men</td>\n",
       "      <td>Apparel</td>\n",
       "      <td>Topwear</td>\n",
       "      <td>Tshirts</td>\n",
       "      <td>Grey</td>\n",
       "      <td>Summer</td>\n",
       "      <td>2012.0</td>\n",
       "      <td>Casual</td>\n",
       "      <td>Puma Men Grey T-shirt</td>\n",
       "    </tr>\n",
       "  </tbody>\n",
       "</table>\n",
       "</div>"
      ],
      "text/plain": [
       "      id gender masterCategory subCategory  articleType baseColour  season  \\\n",
       "0  15970    Men        Apparel     Topwear       Shirts  Navy Blue    Fall   \n",
       "1  39386    Men        Apparel  Bottomwear        Jeans       Blue  Summer   \n",
       "2  59263  Women    Accessories     Watches      Watches     Silver  Winter   \n",
       "3  21379    Men        Apparel  Bottomwear  Track Pants      Black    Fall   \n",
       "4  53759    Men        Apparel     Topwear      Tshirts       Grey  Summer   \n",
       "\n",
       "     year   usage                             productDisplayName  \n",
       "0  2011.0  Casual               Turtle Check Men Navy Blue Shirt  \n",
       "1  2012.0  Casual             Peter England Men Party Blue Jeans  \n",
       "2  2016.0  Casual                       Titan Women Silver Watch  \n",
       "3  2011.0  Casual  Manchester United Men Solid Black Track Pants  \n",
       "4  2012.0  Casual                          Puma Men Grey T-shirt  "
      ]
     },
     "execution_count": 4,
     "metadata": {},
     "output_type": "execute_result"
    }
   ],
   "source": [
    "df.head()"
   ]
  },
  {
   "cell_type": "code",
   "execution_count": 7,
   "metadata": {},
   "outputs": [
    {
     "name": "stdout",
     "output_type": "stream",
     "text": [
      "0 44446\n",
      "1000 44446\n",
      "2000 44446\n",
      "3000 44446\n",
      "4000 44446\n",
      "5000 44446\n",
      "6000 44446\n",
      "7000 44446\n",
      "8000 44446\n",
      "9000 44446\n",
      "10000 44446\n",
      "11000 44446\n",
      "12000 44446\n",
      "13000 44446\n",
      "14000 44446\n",
      "15000 44446\n",
      "16000 44446\n",
      "17000 44446\n",
      "18000 44446\n",
      "19000 44446\n",
      "20000 44446\n",
      "21000 44446\n",
      "22000 44446\n",
      "23000 44446\n",
      "24000 44446\n",
      "25000 44446\n",
      "26000 44446\n",
      "27000 44446\n",
      "28000 44446\n",
      "29000 44446\n",
      "30000 44446\n",
      "31000 44446\n",
      "32000 44446\n",
      "33000 44446\n",
      "34000 44446\n",
      "35000 44446\n",
      "36000 44446\n",
      "37000 44446\n",
      "38000 44446\n",
      "39000 44446\n",
      "40000 44446\n",
      "41000 44446\n",
      "42000 44446\n",
      "43000 44446\n",
      "44000 44446\n"
     ]
    }
   ],
   "source": [
    "'''\n",
    "\n",
    "all_img = []\n",
    "for i, ix in enumerate( df.index ):\n",
    "    if i%1000==0:\n",
    "        print(i, len(df))\n",
    "    \n",
    "    fn = r'/Users/Kelly/galvanize/week8/data/images/{}.jpg'.format(ix)\n",
    "    try:\n",
    "        img = imageio.imread(fn)\n",
    "        if img.shape!=(80, 60, 3):\n",
    "            all_img.append( [0]*(60*80*3) )\n",
    "        else:\n",
    "            all_img.append( img.ravel() )\n",
    "    except FileNotFoundError:\n",
    "        all_img.append( [0]*(60*80*3) )\n",
    "        \n",
    "'''\n",
    "        \n",
    "    "
   ]
  },
  {
   "cell_type": "code",
   "execution_count": 8,
   "metadata": {},
   "outputs": [],
   "source": [
    "#all_img = np.stack(all_img)"
   ]
  },
  {
   "cell_type": "code",
   "execution_count": 5,
   "metadata": {},
   "outputs": [],
   "source": [
    "all_img = np.load('data/image_array.npy')"
   ]
  },
  {
   "cell_type": "code",
   "execution_count": 9,
   "metadata": {},
   "outputs": [],
   "source": [
    "bw_img = np.load('data/bw_array.npy')"
   ]
  },
  {
   "cell_type": "code",
   "execution_count": 7,
   "metadata": {},
   "outputs": [],
   "source": [
    "# don't need to run this if you have saved copy of bw_array.npy\n",
    "#bw_img = all_img.reshape(-1, 80, 60, 3).mean(3).reshape(-1, 80*60)"
   ]
  },
  {
   "cell_type": "code",
   "execution_count": 8,
   "metadata": {},
   "outputs": [],
   "source": [
    "#np.save('bw_array', bw_img)"
   ]
  },
  {
   "cell_type": "code",
   "execution_count": 45,
   "metadata": {},
   "outputs": [
    {
     "data": {
      "text/plain": [
       "(44446, 14400)"
      ]
     },
     "execution_count": 45,
     "metadata": {},
     "output_type": "execute_result"
    }
   ],
   "source": [
    "all_img.shape"
   ]
  },
  {
   "cell_type": "code",
   "execution_count": 46,
   "metadata": {},
   "outputs": [
    {
     "data": {
      "text/plain": [
       "(44446, 9)"
      ]
     },
     "execution_count": 46,
     "metadata": {},
     "output_type": "execute_result"
    }
   ],
   "source": [
    "df.shape"
   ]
  },
  {
   "cell_type": "code",
   "execution_count": 169,
   "metadata": {
    "collapsed": true
   },
   "outputs": [
    {
     "data": {
      "text/plain": [
       "<matplotlib.image.AxesImage at 0x12d00a908>"
      ]
     },
     "execution_count": 169,
     "metadata": {},
     "output_type": "execute_result"
    },
    {
     "data": {
      "image/png": "[encoded data removed]",
      "text/plain": [
       "<Figure size 432x288 with 1 Axes>"
      ]
     },
     "metadata": {
      "needs_background": "light"
     },
     "output_type": "display_data"
    }
   ],
   "source": [
    "plt.imshow( all_img[0].reshape(80,60,3)/255 )"
   ]
  },
  {
   "cell_type": "code",
   "execution_count": 65,
   "metadata": {},
   "outputs": [
    {
     "data": {
      "text/plain": [
       "Apparel           21400\n",
       "Accessories       11289\n",
       "Footwear           9222\n",
       "Personal Care      2404\n",
       "Free Items          105\n",
       "Sporting Goods       25\n",
       "Home                  1\n",
       "Name: masterCategory, dtype: int64"
      ]
     },
     "execution_count": 65,
     "metadata": {},
     "output_type": "execute_result"
    }
   ],
   "source": [
    "df['masterCategory'].value_counts()"
   ]
  },
  {
   "cell_type": "code",
   "execution_count": 66,
   "metadata": {},
   "outputs": [
    {
     "data": {
      "text/plain": [
       "Men       22165\n",
       "Women     18632\n",
       "Unisex     2164\n",
       "Boys        830\n",
       "Girls       655\n",
       "Name: gender, dtype: int64"
      ]
     },
     "execution_count": 66,
     "metadata": {},
     "output_type": "execute_result"
    }
   ],
   "source": [
    "df['gender'].value_counts()"
   ]
  },
  {
   "cell_type": "code",
   "execution_count": 67,
   "metadata": {},
   "outputs": [
    {
     "data": {
      "text/plain": [
       "subCategory\n",
       "Apparel Set                   106\n",
       "Bottomwear                   2694\n",
       "Dress                         478\n",
       "Innerwear                    1808\n",
       "Loungewear and Nightwear      470\n",
       "Saree                         427\n",
       "Socks                          12\n",
       "Topwear                     15405\n",
       "Name: masterCategory, dtype: int64"
      ]
     },
     "execution_count": 67,
     "metadata": {},
     "output_type": "execute_result"
    }
   ],
   "source": [
    "df[df['masterCategory']=='Apparel'].groupby('subCategory').count()['masterCategory']"
   ]
  },
  {
   "cell_type": "code",
   "execution_count": 68,
   "metadata": {},
   "outputs": [
    {
     "data": {
      "text/plain": [
       "subCategory\n",
       "Accessories            143\n",
       "Bags                  3055\n",
       "Belts                  811\n",
       "Cufflinks              108\n",
       "Eyewear               1073\n",
       "Gloves                  20\n",
       "Headwear               293\n",
       "Jewellery             1080\n",
       "Mufflers                38\n",
       "Perfumes                 1\n",
       "Scarves                118\n",
       "Shoe Accessories        24\n",
       "Socks                  686\n",
       "Sports Accessories       3\n",
       "Stoles                  90\n",
       "Ties                   258\n",
       "Umbrellas                6\n",
       "Wallets                933\n",
       "Watches               2542\n",
       "Water Bottle             7\n",
       "Name: masterCategory, dtype: int64"
      ]
     },
     "execution_count": 68,
     "metadata": {},
     "output_type": "execute_result"
    }
   ],
   "source": [
    "df[df['masterCategory']=='Accessories'].groupby('subCategory').count()['masterCategory']"
   ]
  },
  {
   "cell_type": "code",
   "execution_count": 174,
   "metadata": {},
   "outputs": [
    {
     "data": {
      "text/plain": [
       "Index(['Accessories', 'Bags', 'Belts', 'Cufflinks', 'Eyewear', 'Gloves',\n",
       "       'Headwear', 'Jewellery', 'Mufflers', 'Perfumes', 'Scarves',\n",
       "       'Shoe Accessories', 'Socks', 'Sports Accessories', 'Stoles', 'Ties',\n",
       "       'Umbrellas', 'Wallets', 'Watches', 'Water Bottle'],\n",
       "      dtype='object', name='subCategory')"
      ]
     },
     "execution_count": 174,
     "metadata": {},
     "output_type": "execute_result"
    }
   ],
   "source": [
    "df[df['masterCategory']=='Accessories'].groupby('subCategory').count()['masterCategory'].index"
   ]
  },
  {
   "cell_type": "code",
   "execution_count": 177,
   "metadata": {},
   "outputs": [],
   "source": [
    "acc_sub_colors = {'Accessories':'orange', 'Bags':'#BA55D3', 'Belts':'purple', 'Cufflinks':'green', 'Eyewear':'#8B0000', 'Gloves':'orange',\n",
    "       'Headwear':'cyan', 'Jewellery':'#008B8B', 'Mufflers':'orange', 'Perfumes':'orange', 'Scarves':'blue',\n",
    "       'Shoe Accessories':'orange', 'Socks':'blue', 'Sports Accessories':'orange', 'Stoles':'orange', 'Ties':'blue',\n",
    "       'Umbrellas':'orange', 'Wallets':'#F08080', 'Watches':'#808080', 'Water Bottle':'orange'}"
   ]
  },
  {
   "cell_type": "code",
   "execution_count": 173,
   "metadata": {},
   "outputs": [
    {
     "data": {
      "text/plain": [
       "Index(['Topwear', 'Shoes', 'Bags', 'Bottomwear', 'Watches', 'Innerwear',\n",
       "       'Jewellery', 'Eyewear', 'Fragrance', 'Sandal', 'Wallets', 'Flip Flops',\n",
       "       'Belts', 'Socks', 'Lips', 'Dress', 'Loungewear and Nightwear', 'Saree',\n",
       "       'Nails', 'Makeup', 'Headwear', 'Ties', 'Accessories', 'Scarves',\n",
       "       'Cufflinks', 'Apparel Set', 'Free Gifts', 'Stoles', 'Skin Care', 'Skin',\n",
       "       'Eyes', 'Mufflers', 'Shoe Accessories', 'Sports Equipment', 'Gloves',\n",
       "       'Hair', 'Bath and Body', 'Water Bottle', 'Umbrellas', 'Perfumes',\n",
       "       'Wristbands', 'Beauty Accessories', 'Sports Accessories', 'Vouchers',\n",
       "       'Home Furnishing'],\n",
       "      dtype='object')"
      ]
     },
     "execution_count": 173,
     "metadata": {},
     "output_type": "execute_result"
    }
   ],
   "source": [
    "df['subCategory'].value_counts().index"
   ]
  },
  {
   "cell_type": "code",
   "execution_count": 69,
   "metadata": {},
   "outputs": [
    {
     "data": {
      "text/plain": [
       "subCategory\n",
       "Flip Flops     915\n",
       "Sandal         963\n",
       "Shoes         7344\n",
       "Name: masterCategory, dtype: int64"
      ]
     },
     "execution_count": 69,
     "metadata": {},
     "output_type": "execute_result"
    }
   ],
   "source": [
    "df[df['masterCategory']=='Footwear'].groupby('subCategory').count()['masterCategory']"
   ]
  },
  {
   "cell_type": "code",
   "execution_count": 11,
   "metadata": {},
   "outputs": [
    {
     "data": {
      "text/plain": [
       "subCategory               articleType       \n",
       "Apparel Set               Clothing Set             8\n",
       "                          Kurta Sets              94\n",
       "                          Swimwear                 4\n",
       "Bottomwear                Capris                 175\n",
       "                          Churidar                30\n",
       "                          Jeans                  609\n",
       "                          Jeggings                34\n",
       "                          Leggings               177\n",
       "                          Patiala                 38\n",
       "                          Rain Trousers            2\n",
       "                          Salwar                  32\n",
       "                          Salwar and Dupatta       7\n",
       "                          Shorts                 545\n",
       "                          Skirts                 128\n",
       "                          Stockings               32\n",
       "                          Swimwear                13\n",
       "                          Tights                   9\n",
       "                          Track Pants            304\n",
       "                          Tracksuits              29\n",
       "                          Trousers               530\n",
       "Dress                     Dresses                462\n",
       "                          Jumpsuit                16\n",
       "Innerwear                 Boxers                  52\n",
       "                          Bra                    477\n",
       "                          Briefs                 849\n",
       "                          Camisoles               39\n",
       "                          Innerwear Vests        242\n",
       "                          Shapewear                9\n",
       "                          Trunk                  140\n",
       "Loungewear and Nightwear  Baby Dolls              16\n",
       "                                                ... \n",
       "                          Lounge Pants            61\n",
       "                          Lounge Shorts           34\n",
       "                          Lounge Tshirts           3\n",
       "                          Night suits            141\n",
       "                          Nightdress             189\n",
       "                          Robe                     4\n",
       "                          Shorts                   2\n",
       "Saree                     Sarees                 427\n",
       "Socks                     Booties                 12\n",
       "Topwear                   Belts                    3\n",
       "                          Blazers                  8\n",
       "                          Dresses                  2\n",
       "                          Dupatta                116\n",
       "                          Jackets                258\n",
       "                          Kurtas                1844\n",
       "                          Kurtis                 234\n",
       "                          Lehenga Choli            4\n",
       "                          Nehru Jackets            5\n",
       "                          Rain Jacket             18\n",
       "                          Rompers                 12\n",
       "                          Shirts                3217\n",
       "                          Shrug                    6\n",
       "                          Suits                    1\n",
       "                          Suspenders              40\n",
       "                          Sweaters               277\n",
       "                          Sweatshirts            285\n",
       "                          Tops                  1762\n",
       "                          Tshirts               7069\n",
       "                          Tunics                 229\n",
       "                          Waistcoat               15\n",
       "Name: masterCategory, Length: 61, dtype: int64"
      ]
     },
     "execution_count": 11,
     "metadata": {},
     "output_type": "execute_result"
    }
   ],
   "source": [
    "df[df['masterCategory']=='Apparel'].groupby(['subCategory','articleType']).count()['masterCategory']"
   ]
  },
  {
   "cell_type": "code",
   "execution_count": 71,
   "metadata": {},
   "outputs": [],
   "source": [
    "wearable_list = ['Apparel', 'Accessories', 'Footwear']"
   ]
  },
  {
   "cell_type": "code",
   "execution_count": 79,
   "metadata": {},
   "outputs": [
    {
     "data": {
      "text/html": [
       "<div>\n",
       "<style scoped>\n",
       "    .dataframe tbody tr th:only-of-type {\n",
       "        vertical-align: middle;\n",
       "    }\n",
       "\n",
       "    .dataframe tbody tr th {\n",
       "        vertical-align: top;\n",
       "    }\n",
       "\n",
       "    .dataframe thead th {\n",
       "        text-align: right;\n",
       "    }\n",
       "</style>\n",
       "<table border=\"1\" class=\"dataframe\">\n",
       "  <thead>\n",
       "    <tr style=\"text-align: right;\">\n",
       "      <th></th>\n",
       "      <th>id</th>\n",
       "      <th>gender</th>\n",
       "      <th>masterCategory</th>\n",
       "      <th>subCategory</th>\n",
       "      <th>articleType</th>\n",
       "      <th>baseColour</th>\n",
       "      <th>season</th>\n",
       "      <th>year</th>\n",
       "      <th>usage</th>\n",
       "      <th>productDisplayName</th>\n",
       "    </tr>\n",
       "  </thead>\n",
       "  <tbody>\n",
       "    <tr>\n",
       "      <th>0</th>\n",
       "      <td>15970</td>\n",
       "      <td>Men</td>\n",
       "      <td>Apparel</td>\n",
       "      <td>Topwear</td>\n",
       "      <td>Shirts</td>\n",
       "      <td>Navy Blue</td>\n",
       "      <td>Fall</td>\n",
       "      <td>2011.0</td>\n",
       "      <td>Casual</td>\n",
       "      <td>Turtle Check Men Navy Blue Shirt</td>\n",
       "    </tr>\n",
       "    <tr>\n",
       "      <th>1</th>\n",
       "      <td>39386</td>\n",
       "      <td>Men</td>\n",
       "      <td>Apparel</td>\n",
       "      <td>Bottomwear</td>\n",
       "      <td>Jeans</td>\n",
       "      <td>Blue</td>\n",
       "      <td>Summer</td>\n",
       "      <td>2012.0</td>\n",
       "      <td>Casual</td>\n",
       "      <td>Peter England Men Party Blue Jeans</td>\n",
       "    </tr>\n",
       "    <tr>\n",
       "      <th>2</th>\n",
       "      <td>59263</td>\n",
       "      <td>Women</td>\n",
       "      <td>Accessories</td>\n",
       "      <td>Watches</td>\n",
       "      <td>Watches</td>\n",
       "      <td>Silver</td>\n",
       "      <td>Winter</td>\n",
       "      <td>2016.0</td>\n",
       "      <td>Casual</td>\n",
       "      <td>Titan Women Silver Watch</td>\n",
       "    </tr>\n",
       "    <tr>\n",
       "      <th>3</th>\n",
       "      <td>21379</td>\n",
       "      <td>Men</td>\n",
       "      <td>Apparel</td>\n",
       "      <td>Bottomwear</td>\n",
       "      <td>Track Pants</td>\n",
       "      <td>Black</td>\n",
       "      <td>Fall</td>\n",
       "      <td>2011.0</td>\n",
       "      <td>Casual</td>\n",
       "      <td>Manchester United Men Solid Black Track Pants</td>\n",
       "    </tr>\n",
       "    <tr>\n",
       "      <th>4</th>\n",
       "      <td>53759</td>\n",
       "      <td>Men</td>\n",
       "      <td>Apparel</td>\n",
       "      <td>Topwear</td>\n",
       "      <td>Tshirts</td>\n",
       "      <td>Grey</td>\n",
       "      <td>Summer</td>\n",
       "      <td>2012.0</td>\n",
       "      <td>Casual</td>\n",
       "      <td>Puma Men Grey T-shirt</td>\n",
       "    </tr>\n",
       "  </tbody>\n",
       "</table>\n",
       "</div>"
      ],
      "text/plain": [
       "      id gender masterCategory subCategory  articleType baseColour  season  \\\n",
       "0  15970    Men        Apparel     Topwear       Shirts  Navy Blue    Fall   \n",
       "1  39386    Men        Apparel  Bottomwear        Jeans       Blue  Summer   \n",
       "2  59263  Women    Accessories     Watches      Watches     Silver  Winter   \n",
       "3  21379    Men        Apparel  Bottomwear  Track Pants      Black    Fall   \n",
       "4  53759    Men        Apparel     Topwear      Tshirts       Grey  Summer   \n",
       "\n",
       "     year   usage                             productDisplayName  \n",
       "0  2011.0  Casual               Turtle Check Men Navy Blue Shirt  \n",
       "1  2012.0  Casual             Peter England Men Party Blue Jeans  \n",
       "2  2016.0  Casual                       Titan Women Silver Watch  \n",
       "3  2011.0  Casual  Manchester United Men Solid Black Track Pants  \n",
       "4  2012.0  Casual                          Puma Men Grey T-shirt  "
      ]
     },
     "execution_count": 79,
     "metadata": {},
     "output_type": "execute_result"
    }
   ],
   "source": [
    "wearable_df = df[ df['masterCategory'].isin(wearable_list) ]\n",
    "wearable_df.head()"
   ]
  },
  {
   "cell_type": "code",
   "execution_count": 170,
   "metadata": {},
   "outputs": [],
   "source": [
    "wearable_img = all_img[ wearable_df.index.values ].copy()"
   ]
  },
  {
   "cell_type": "code",
   "execution_count": 179,
   "metadata": {},
   "outputs": [
    {
     "data": {
      "text/plain": [
       "(41911,)"
      ]
     },
     "execution_count": 179,
     "metadata": {},
     "output_type": "execute_result"
    }
   ],
   "source": [
    "wearable_df.index.values.shape "
   ]
  },
  {
   "cell_type": "code",
   "execution_count": 1,
   "metadata": {},
   "outputs": [
    {
     "ename": "NameError",
     "evalue": "name 'plt' is not defined",
     "output_type": "error",
     "traceback": [
      "\u001b[0;31m---------------------------------------------------------------------------\u001b[0m",
      "\u001b[0;31mNameError\u001b[0m                                 Traceback (most recent call last)",
      "\u001b[0;32m<ipython-input-1-6af1b4684de7>\u001b[0m in \u001b[0;36m<module>\u001b[0;34m\u001b[0m\n\u001b[0;32m----> 1\u001b[0;31m \u001b[0mplt\u001b[0m\u001b[0;34m.\u001b[0m\u001b[0mimshow\u001b[0m\u001b[0;34m(\u001b[0m \u001b[0mwearble_img\u001b[0m\u001b[0;34m[\u001b[0m\u001b[0;36m47\u001b[0m\u001b[0;34m]\u001b[0m\u001b[0;34m.\u001b[0m\u001b[0mreshape\u001b[0m\u001b[0;34m(\u001b[0m\u001b[0;36m80\u001b[0m\u001b[0;34m,\u001b[0m\u001b[0;36m60\u001b[0m\u001b[0;34m,\u001b[0m\u001b[0;36m3\u001b[0m\u001b[0;34m)\u001b[0m\u001b[0;34m/\u001b[0m\u001b[0;36m255\u001b[0m \u001b[0;34m)\u001b[0m\u001b[0;34m\u001b[0m\u001b[0;34m\u001b[0m\u001b[0m\n\u001b[0m",
      "\u001b[0;31mNameError\u001b[0m: name 'plt' is not defined"
     ]
    }
   ],
   "source": [
    "plt.imshow( wearble_img[47].reshape(80,60,3)/255 )"
   ]
  },
  {
   "cell_type": "code",
   "execution_count": 115,
   "metadata": {},
   "outputs": [],
   "source": [
    "bw_wearables = wearble_img.reshape(-1, 80, 60, 3).mean(3).reshape(-1, 80*60)"
   ]
  },
  {
   "cell_type": "code",
   "execution_count": 120,
   "metadata": {},
   "outputs": [],
   "source": [
    "from sklearn.decomposition import PCA"
   ]
  },
  {
   "cell_type": "code",
   "execution_count": 143,
   "metadata": {},
   "outputs": [],
   "source": [
    "pca = PCA(n_components=2)\n",
    "bw_wearables_pca = pca.fit_transform(bw_wearables[0:10000])"
   ]
  },
  {
   "cell_type": "code",
   "execution_count": 144,
   "metadata": {},
   "outputs": [],
   "source": [
    "wearables_pca = pca.fit_transform(wearable_img[0:10000])"
   ]
  },
  {
   "cell_type": "code",
   "execution_count": 171,
   "metadata": {},
   "outputs": [
    {
     "data": {
      "text/plain": [
       "(10000, 2)"
      ]
     },
     "execution_count": 171,
     "metadata": {},
     "output_type": "execute_result"
    }
   ],
   "source": [
    "wearables_pca.shape"
   ]
  },
  {
   "cell_type": "code",
   "execution_count": 148,
   "metadata": {},
   "outputs": [
    {
     "name": "stderr",
     "output_type": "stream",
     "text": [
      "/Users/Kelly/anaconda3/lib/python3.7/site-packages/ipykernel_launcher.py:2: SettingWithCopyWarning: \n",
      "A value is trying to be set on a copy of a slice from a DataFrame.\n",
      "Try using .loc[row_indexer,col_indexer] = value instead\n",
      "\n",
      "See the caveats in the documentation: http://pandas.pydata.org/pandas-docs/stable/indexing.html#indexing-view-versus-copy\n",
      "  \n"
     ]
    }
   ],
   "source": [
    "masterCat_colors = {'Apparel':'orange','Accessories':'teal','Footwear':'red', 'Personal Care':'grey', 'Free Items':'yellow', 'Sporting Goods':'black', 'Home':'magenta'}\n",
    "wearable_df['colors'] = wearable_df['masterCategory'].apply(lambda x: masterCat_colors[x])"
   ]
  },
  {
   "cell_type": "code",
   "execution_count": 164,
   "metadata": {},
   "outputs": [
    {
     "data": {
      "text/plain": [
       "<matplotlib.collections.PathCollection at 0x12a78fa90>"
      ]
     },
     "execution_count": 164,
     "metadata": {},
     "output_type": "execute_result"
    },
    {
     "data": {
      "image/png": "[encoded data removed]",
      "text/plain": [
       "<Figure size 432x432 with 1 Axes>"
      ]
     },
     "metadata": {
      "needs_background": "light"
     },
     "output_type": "display_data"
    }
   ],
   "source": [
    "fig, ax = plt.subplots(figsize=(6,6))\n",
    "ax.scatter( *wearables_pca.T, s=.25 , color=wearable_df['colors'][0:10000])"
   ]
  },
  {
   "cell_type": "code",
   "execution_count": 195,
   "metadata": {},
   "outputs": [],
   "source": [
    "image_matrix_row_labels = idx_series.str.split(\".\").map(lambda x:x[0]).astype(int)"
   ]
  },
  {
   "cell_type": "code",
   "execution_count": 196,
   "metadata": {
    "collapsed": true
   },
   "outputs": [
    {
     "data": {
      "text/plain": [
       "0         9733\n",
       "1        14147\n",
       "2        52112\n",
       "3         6400\n",
       "4        34297\n",
       "5        24084\n",
       "6        12536\n",
       "7        54563\n",
       "8        15259\n",
       "9        35189\n",
       "10       44770\n",
       "11        4217\n",
       "12       47279\n",
       "13       36480\n",
       "14       16750\n",
       "15       50705\n",
       "16       26693\n",
       "17       37946\n",
       "18        3578\n",
       "19       40516\n",
       "20       10321\n",
       "21       16988\n",
       "22       59047\n",
       "23        2666\n",
       "24       41608\n",
       "25       46167\n",
       "26        5109\n",
       "27       46601\n",
       "28       11981\n",
       "29       20584\n",
       "         ...  \n",
       "44411    51364\n",
       "44412    17331\n",
       "44413     2119\n",
       "44414    10338\n",
       "44415    27594\n",
       "44416    16991\n",
       "44417    39972\n",
       "44418    41611\n",
       "44419    26852\n",
       "44420     5110\n",
       "44421    37787\n",
       "44422    18764\n",
       "44423    51402\n",
       "44424    17457\n",
       "44425    36499\n",
       "44426    47260\n",
       "44427    48153\n",
       "44428    16749\n",
       "44429    57073\n",
       "44430    11026\n",
       "44431     3561\n",
       "44432    58340\n",
       "44433    43006\n",
       "44434    25383\n",
       "44435    53215\n",
       "44436    15240\n",
       "44437     8434\n",
       "44438    44769\n",
       "44439     7707\n",
       "44440     6419\n",
       "Length: 44441, dtype: int64"
      ]
     },
     "execution_count": 196,
     "metadata": {},
     "output_type": "execute_result"
    }
   ],
   "source": [
    "image_matrix_row_labels"
   ]
  },
  {
   "cell_type": "code",
   "execution_count": 31,
   "metadata": {},
   "outputs": [],
   "source": [
    "from sklearn.cluster import AgglomerativeClustering"
   ]
  },
  {
   "cell_type": "code",
   "execution_count": 48,
   "metadata": {},
   "outputs": [],
   "source": [
    "clust = AgglomerativeClustering(n_clusters=3).fit(wear_pics)"
   ]
  },
  {
   "cell_type": "code",
   "execution_count": 49,
   "metadata": {},
   "outputs": [
    {
     "data": {
      "text/plain": [
       "AgglomerativeClustering(affinity='euclidean', compute_full_tree='auto',\n",
       "                        connectivity=None, distance_threshold=None,\n",
       "                        linkage='ward', memory=None, n_clusters=3,\n",
       "                        pooling_func='deprecated')"
      ]
     },
     "execution_count": 49,
     "metadata": {},
     "output_type": "execute_result"
    }
   ],
   "source": [
    "clust"
   ]
  },
  {
   "cell_type": "code",
   "execution_count": 50,
   "metadata": {},
   "outputs": [],
   "source": [
    "cc = clust.labels_"
   ]
  },
  {
   "cell_type": "code",
   "execution_count": 76,
   "metadata": {},
   "outputs": [
    {
     "data": {
      "text/html": [
       "<div>\n",
       "<style scoped>\n",
       "    .dataframe tbody tr th:only-of-type {\n",
       "        vertical-align: middle;\n",
       "    }\n",
       "\n",
       "    .dataframe tbody tr th {\n",
       "        vertical-align: top;\n",
       "    }\n",
       "\n",
       "    .dataframe thead th {\n",
       "        text-align: right;\n",
       "    }\n",
       "</style>\n",
       "<table border=\"1\" class=\"dataframe\">\n",
       "  <thead>\n",
       "    <tr style=\"text-align: right;\">\n",
       "      <th></th>\n",
       "      <th>gender</th>\n",
       "      <th>masterCategory</th>\n",
       "      <th>subCategory</th>\n",
       "      <th>articleType</th>\n",
       "      <th>baseColour</th>\n",
       "      <th>season</th>\n",
       "      <th>year</th>\n",
       "      <th>usage</th>\n",
       "      <th>productDisplayName</th>\n",
       "    </tr>\n",
       "  </thead>\n",
       "  <tbody>\n",
       "    <tr>\n",
       "      <th>9733</th>\n",
       "      <td>Men</td>\n",
       "      <td>Apparel</td>\n",
       "      <td>Topwear</td>\n",
       "      <td>Shirts</td>\n",
       "      <td>Green</td>\n",
       "      <td>Fall</td>\n",
       "      <td>2011.0</td>\n",
       "      <td>Casual</td>\n",
       "      <td>Indian Terrain Men Chase Green Shirts</td>\n",
       "    </tr>\n",
       "    <tr>\n",
       "      <th>14147</th>\n",
       "      <td>Men</td>\n",
       "      <td>Accessories</td>\n",
       "      <td>Cufflinks</td>\n",
       "      <td>Cufflinks</td>\n",
       "      <td>Steel</td>\n",
       "      <td>Fall</td>\n",
       "      <td>2011.0</td>\n",
       "      <td>Formal</td>\n",
       "      <td>Belmonte Men Bright Assorted Steel Cufflinks</td>\n",
       "    </tr>\n",
       "    <tr>\n",
       "      <th>52112</th>\n",
       "      <td>Women</td>\n",
       "      <td>Apparel</td>\n",
       "      <td>Topwear</td>\n",
       "      <td>Kurtis</td>\n",
       "      <td>Multi</td>\n",
       "      <td>Summer</td>\n",
       "      <td>2012.0</td>\n",
       "      <td>Ethnic</td>\n",
       "      <td>Myntra Women Multi Coloured Kurti</td>\n",
       "    </tr>\n",
       "    <tr>\n",
       "      <th>6400</th>\n",
       "      <td>Men</td>\n",
       "      <td>Footwear</td>\n",
       "      <td>Sandal</td>\n",
       "      <td>Sandals</td>\n",
       "      <td>Black</td>\n",
       "      <td>Summer</td>\n",
       "      <td>2011.0</td>\n",
       "      <td>Casual</td>\n",
       "      <td>Lotto Men Laos Black Grey Floater</td>\n",
       "    </tr>\n",
       "    <tr>\n",
       "      <th>34297</th>\n",
       "      <td>Women</td>\n",
       "      <td>Apparel</td>\n",
       "      <td>Topwear</td>\n",
       "      <td>Dupatta</td>\n",
       "      <td>Gold</td>\n",
       "      <td>Summer</td>\n",
       "      <td>2012.0</td>\n",
       "      <td>Ethnic</td>\n",
       "      <td>Fabindia Women Gold Tussar Dupatta</td>\n",
       "    </tr>\n",
       "    <tr>\n",
       "      <th>24084</th>\n",
       "      <td>Women</td>\n",
       "      <td>Footwear</td>\n",
       "      <td>Shoes</td>\n",
       "      <td>Heels</td>\n",
       "      <td>Bronze</td>\n",
       "      <td>Winter</td>\n",
       "      <td>2015.0</td>\n",
       "      <td>Casual</td>\n",
       "      <td>Catwalk Women Bronze Flats</td>\n",
       "    </tr>\n",
       "    <tr>\n",
       "      <th>12536</th>\n",
       "      <td>Women</td>\n",
       "      <td>Apparel</td>\n",
       "      <td>Topwear</td>\n",
       "      <td>Sweatshirts</td>\n",
       "      <td>Black</td>\n",
       "      <td>Fall</td>\n",
       "      <td>2011.0</td>\n",
       "      <td>Casual</td>\n",
       "      <td>Puma Women Solid Black Sweatshirts</td>\n",
       "    </tr>\n",
       "    <tr>\n",
       "      <th>54563</th>\n",
       "      <td>Women</td>\n",
       "      <td>Apparel</td>\n",
       "      <td>Topwear</td>\n",
       "      <td>Tunics</td>\n",
       "      <td>White</td>\n",
       "      <td>Summer</td>\n",
       "      <td>2012.0</td>\n",
       "      <td>Casual</td>\n",
       "      <td>Global Desi Women White Printed Tunic</td>\n",
       "    </tr>\n",
       "    <tr>\n",
       "      <th>15259</th>\n",
       "      <td>Women</td>\n",
       "      <td>Footwear</td>\n",
       "      <td>Shoes</td>\n",
       "      <td>Casual Shoes</td>\n",
       "      <td>White</td>\n",
       "      <td>Fall</td>\n",
       "      <td>2011.0</td>\n",
       "      <td>Casual</td>\n",
       "      <td>ADIDAS Originals Women Top Ten low Sleek White...</td>\n",
       "    </tr>\n",
       "    <tr>\n",
       "      <th>35189</th>\n",
       "      <td>Unisex</td>\n",
       "      <td>Accessories</td>\n",
       "      <td>Bags</td>\n",
       "      <td>Backpacks</td>\n",
       "      <td>Red</td>\n",
       "      <td>Summer</td>\n",
       "      <td>2015.0</td>\n",
       "      <td>Casual</td>\n",
       "      <td>Wildcraft Unisex Red Solid Backpack</td>\n",
       "    </tr>\n",
       "    <tr>\n",
       "      <th>44770</th>\n",
       "      <td>Men</td>\n",
       "      <td>Footwear</td>\n",
       "      <td>Shoes</td>\n",
       "      <td>Casual Shoes</td>\n",
       "      <td>Black</td>\n",
       "      <td>Summer</td>\n",
       "      <td>2012.0</td>\n",
       "      <td>Casual</td>\n",
       "      <td>Globalite Men Black Skid Shoes</td>\n",
       "    </tr>\n",
       "    <tr>\n",
       "      <th>4217</th>\n",
       "      <td>Girls</td>\n",
       "      <td>Apparel</td>\n",
       "      <td>Topwear</td>\n",
       "      <td>Tshirts</td>\n",
       "      <td>Blue</td>\n",
       "      <td>Summer</td>\n",
       "      <td>2011.0</td>\n",
       "      <td>Casual</td>\n",
       "      <td>Disney Kids Girl's Blue Disney Jeans Kidswear</td>\n",
       "    </tr>\n",
       "    <tr>\n",
       "      <th>47279</th>\n",
       "      <td>Men</td>\n",
       "      <td>Footwear</td>\n",
       "      <td>Shoes</td>\n",
       "      <td>Formal Shoes</td>\n",
       "      <td>Brown</td>\n",
       "      <td>Summer</td>\n",
       "      <td>2013.0</td>\n",
       "      <td>Formal</td>\n",
       "      <td>Franco Leone Men Brown Formal Shoes</td>\n",
       "    </tr>\n",
       "    <tr>\n",
       "      <th>36480</th>\n",
       "      <td>Men</td>\n",
       "      <td>Footwear</td>\n",
       "      <td>Shoes</td>\n",
       "      <td>Casual Shoes</td>\n",
       "      <td>Brown</td>\n",
       "      <td>Spring</td>\n",
       "      <td>2013.0</td>\n",
       "      <td>Casual</td>\n",
       "      <td>Spinn Men Benzeen Brown Shoes</td>\n",
       "    </tr>\n",
       "    <tr>\n",
       "      <th>16750</th>\n",
       "      <td>Women</td>\n",
       "      <td>Accessories</td>\n",
       "      <td>Bags</td>\n",
       "      <td>Clutches</td>\n",
       "      <td>Beige</td>\n",
       "      <td>Winter</td>\n",
       "      <td>2015.0</td>\n",
       "      <td>Casual</td>\n",
       "      <td>Spice Art Women Gun Metal Leatherette Metallic...</td>\n",
       "    </tr>\n",
       "    <tr>\n",
       "      <th>50705</th>\n",
       "      <td>Women</td>\n",
       "      <td>Apparel</td>\n",
       "      <td>Topwear</td>\n",
       "      <td>Tops</td>\n",
       "      <td>Cream</td>\n",
       "      <td>Summer</td>\n",
       "      <td>2012.0</td>\n",
       "      <td>Casual</td>\n",
       "      <td>Latin Quarters Women Cream Printed Top</td>\n",
       "    </tr>\n",
       "    <tr>\n",
       "      <th>26693</th>\n",
       "      <td>Unisex</td>\n",
       "      <td>Accessories</td>\n",
       "      <td>Bags</td>\n",
       "      <td>Waist Pouch</td>\n",
       "      <td>Black</td>\n",
       "      <td>Winter</td>\n",
       "      <td>2015.0</td>\n",
       "      <td>Casual</td>\n",
       "      <td>Wildcraft Unisex Casual Black Waist Pouch</td>\n",
       "    </tr>\n",
       "    <tr>\n",
       "      <th>37946</th>\n",
       "      <td>Women</td>\n",
       "      <td>Apparel</td>\n",
       "      <td>Topwear</td>\n",
       "      <td>Tunics</td>\n",
       "      <td>Mustard</td>\n",
       "      <td>Summer</td>\n",
       "      <td>2012.0</td>\n",
       "      <td>Casual</td>\n",
       "      <td>Mineral Women Mustard Tunic</td>\n",
       "    </tr>\n",
       "    <tr>\n",
       "      <th>3578</th>\n",
       "      <td>Men</td>\n",
       "      <td>Footwear</td>\n",
       "      <td>Sandal</td>\n",
       "      <td>Sports Sandals</td>\n",
       "      <td>Black</td>\n",
       "      <td>Summer</td>\n",
       "      <td>2011.0</td>\n",
       "      <td>Casual</td>\n",
       "      <td>ADIDAS Men Black Cherokee Sports Sandals</td>\n",
       "    </tr>\n",
       "    <tr>\n",
       "      <th>40516</th>\n",
       "      <td>Men</td>\n",
       "      <td>Accessories</td>\n",
       "      <td>Watches</td>\n",
       "      <td>Watches</td>\n",
       "      <td>White</td>\n",
       "      <td>Winter</td>\n",
       "      <td>2016.0</td>\n",
       "      <td>Casual</td>\n",
       "      <td>Titan Men White Dial Watch</td>\n",
       "    </tr>\n",
       "    <tr>\n",
       "      <th>10321</th>\n",
       "      <td>Women</td>\n",
       "      <td>Accessories</td>\n",
       "      <td>Bags</td>\n",
       "      <td>Handbags</td>\n",
       "      <td>Black</td>\n",
       "      <td>Winter</td>\n",
       "      <td>2015.0</td>\n",
       "      <td>Casual</td>\n",
       "      <td>Murcia Women TMK Black Handbags</td>\n",
       "    </tr>\n",
       "    <tr>\n",
       "      <th>16988</th>\n",
       "      <td>Men</td>\n",
       "      <td>Footwear</td>\n",
       "      <td>Flip Flops</td>\n",
       "      <td>Flip Flops</td>\n",
       "      <td>Black</td>\n",
       "      <td>Fall</td>\n",
       "      <td>2011.0</td>\n",
       "      <td>Casual</td>\n",
       "      <td>Puma Men Miami Black Slipper</td>\n",
       "    </tr>\n",
       "    <tr>\n",
       "      <th>59047</th>\n",
       "      <td>Women</td>\n",
       "      <td>Footwear</td>\n",
       "      <td>Shoes</td>\n",
       "      <td>Heels</td>\n",
       "      <td>Black</td>\n",
       "      <td>Winter</td>\n",
       "      <td>2012.0</td>\n",
       "      <td>Casual</td>\n",
       "      <td>Carlton London Women Black Heels</td>\n",
       "    </tr>\n",
       "    <tr>\n",
       "      <th>2666</th>\n",
       "      <td>Women</td>\n",
       "      <td>Accessories</td>\n",
       "      <td>Bags</td>\n",
       "      <td>Handbags</td>\n",
       "      <td>Grey</td>\n",
       "      <td>Winter</td>\n",
       "      <td>2015.0</td>\n",
       "      <td>Casual</td>\n",
       "      <td>Murcia Women Casual Tote Grey Bag</td>\n",
       "    </tr>\n",
       "    <tr>\n",
       "      <th>41608</th>\n",
       "      <td>Men</td>\n",
       "      <td>Apparel</td>\n",
       "      <td>Topwear</td>\n",
       "      <td>Shirts</td>\n",
       "      <td>Blue</td>\n",
       "      <td>Summer</td>\n",
       "      <td>2012.0</td>\n",
       "      <td>Casual</td>\n",
       "      <td>Basics Men Blue Shirt</td>\n",
       "    </tr>\n",
       "    <tr>\n",
       "      <th>46167</th>\n",
       "      <td>Women</td>\n",
       "      <td>Accessories</td>\n",
       "      <td>Jewellery</td>\n",
       "      <td>Necklace and Chains</td>\n",
       "      <td>Beige</td>\n",
       "      <td>Winter</td>\n",
       "      <td>2015.0</td>\n",
       "      <td>Casual</td>\n",
       "      <td>Adrika Women Beige &amp; Pink Necklace</td>\n",
       "    </tr>\n",
       "    <tr>\n",
       "      <th>5109</th>\n",
       "      <td>Women</td>\n",
       "      <td>Apparel</td>\n",
       "      <td>Topwear</td>\n",
       "      <td>Tops</td>\n",
       "      <td>Black</td>\n",
       "      <td>Summer</td>\n",
       "      <td>2011.0</td>\n",
       "      <td>Casual</td>\n",
       "      <td>Wrangler Women Long Polka White Red Top</td>\n",
       "    </tr>\n",
       "    <tr>\n",
       "      <th>46601</th>\n",
       "      <td>Women</td>\n",
       "      <td>Footwear</td>\n",
       "      <td>Shoes</td>\n",
       "      <td>Heels</td>\n",
       "      <td>Gold</td>\n",
       "      <td>Winter</td>\n",
       "      <td>2012.0</td>\n",
       "      <td>Casual</td>\n",
       "      <td>Catwalk Women Gold Coloured Heels</td>\n",
       "    </tr>\n",
       "    <tr>\n",
       "      <th>11981</th>\n",
       "      <td>Men</td>\n",
       "      <td>Footwear</td>\n",
       "      <td>Shoes</td>\n",
       "      <td>Sports Shoes</td>\n",
       "      <td>Black</td>\n",
       "      <td>Fall</td>\n",
       "      <td>2011.0</td>\n",
       "      <td>Sports</td>\n",
       "      <td>FILA Men Intense Black Sports Shoes</td>\n",
       "    </tr>\n",
       "    <tr>\n",
       "      <th>20584</th>\n",
       "      <td>Women</td>\n",
       "      <td>Accessories</td>\n",
       "      <td>Wallets</td>\n",
       "      <td>Wallets</td>\n",
       "      <td>Green</td>\n",
       "      <td>Winter</td>\n",
       "      <td>2015.0</td>\n",
       "      <td>Casual</td>\n",
       "      <td>Baggit Women Karma Mayur Green Wallet</td>\n",
       "    </tr>\n",
       "    <tr>\n",
       "      <th>...</th>\n",
       "      <td>...</td>\n",
       "      <td>...</td>\n",
       "      <td>...</td>\n",
       "      <td>...</td>\n",
       "      <td>...</td>\n",
       "      <td>...</td>\n",
       "      <td>...</td>\n",
       "      <td>...</td>\n",
       "      <td>...</td>\n",
       "    </tr>\n",
       "    <tr>\n",
       "      <th>27610</th>\n",
       "      <td>Men</td>\n",
       "      <td>Apparel</td>\n",
       "      <td>Bottomwear</td>\n",
       "      <td>Trousers</td>\n",
       "      <td>Grey</td>\n",
       "      <td>Summer</td>\n",
       "      <td>2012.0</td>\n",
       "      <td>Casual</td>\n",
       "      <td>Scullers Men Grey Trousers</td>\n",
       "    </tr>\n",
       "    <tr>\n",
       "      <th>19926</th>\n",
       "      <td>Men</td>\n",
       "      <td>Accessories</td>\n",
       "      <td>Accessories</td>\n",
       "      <td>Accessory Gift Set</td>\n",
       "      <td>Black</td>\n",
       "      <td>Fall</td>\n",
       "      <td>2011.0</td>\n",
       "      <td>Formal</td>\n",
       "      <td>Reid &amp; Taylor Men Formal Black Tie+Cufflink+Po...</td>\n",
       "    </tr>\n",
       "    <tr>\n",
       "      <th>28523</th>\n",
       "      <td>Men</td>\n",
       "      <td>Apparel</td>\n",
       "      <td>Topwear</td>\n",
       "      <td>Tshirts</td>\n",
       "      <td>Grey</td>\n",
       "      <td>Summer</td>\n",
       "      <td>2012.0</td>\n",
       "      <td>Casual</td>\n",
       "      <td>Nike Men Man U SS Authentic Grey T-shirt</td>\n",
       "    </tr>\n",
       "    <tr>\n",
       "      <th>41595</th>\n",
       "      <td>Men</td>\n",
       "      <td>Apparel</td>\n",
       "      <td>Topwear</td>\n",
       "      <td>Shirts</td>\n",
       "      <td>Brown</td>\n",
       "      <td>Summer</td>\n",
       "      <td>2012.0</td>\n",
       "      <td>Casual</td>\n",
       "      <td>Basics Men Brown Striped Shirt</td>\n",
       "    </tr>\n",
       "    <tr>\n",
       "      <th>5294</th>\n",
       "      <td>Women</td>\n",
       "      <td>Apparel</td>\n",
       "      <td>Topwear</td>\n",
       "      <td>Tshirts</td>\n",
       "      <td>Blue</td>\n",
       "      <td>Summer</td>\n",
       "      <td>2011.0</td>\n",
       "      <td>Casual</td>\n",
       "      <td>Puma Women's Ess Striped Blue T-shirt</td>\n",
       "    </tr>\n",
       "    <tr>\n",
       "      <th>51786</th>\n",
       "      <td>Women</td>\n",
       "      <td>Apparel</td>\n",
       "      <td>Innerwear</td>\n",
       "      <td>Bra</td>\n",
       "      <td>Purple</td>\n",
       "      <td>Summer</td>\n",
       "      <td>2016.0</td>\n",
       "      <td>Casual</td>\n",
       "      <td>Bwitch Purple Bra</td>\n",
       "    </tr>\n",
       "    <tr>\n",
       "      <th>21261</th>\n",
       "      <td>Unisex</td>\n",
       "      <td>Accessories</td>\n",
       "      <td>Bags</td>\n",
       "      <td>Backpacks</td>\n",
       "      <td>Black</td>\n",
       "      <td>Summer</td>\n",
       "      <td>2011.0</td>\n",
       "      <td>Casual</td>\n",
       "      <td>Skybags Unisex Black Backpack</td>\n",
       "    </tr>\n",
       "    <tr>\n",
       "      <th>50498</th>\n",
       "      <td>Men</td>\n",
       "      <td>Apparel</td>\n",
       "      <td>Innerwear</td>\n",
       "      <td>Innerwear Vests</td>\n",
       "      <td>Maroon</td>\n",
       "      <td>Winter</td>\n",
       "      <td>2016.0</td>\n",
       "      <td>Casual</td>\n",
       "      <td>Chromozome Men Maroon Innerwear Vest</td>\n",
       "    </tr>\n",
       "    <tr>\n",
       "      <th>31072</th>\n",
       "      <td>Women</td>\n",
       "      <td>Apparel</td>\n",
       "      <td>Topwear</td>\n",
       "      <td>Dupatta</td>\n",
       "      <td>Blue</td>\n",
       "      <td>Summer</td>\n",
       "      <td>2012.0</td>\n",
       "      <td>Ethnic</td>\n",
       "      <td>Fabindia Women Blue Tussar Dupatta</td>\n",
       "    </tr>\n",
       "    <tr>\n",
       "      <th>26268</th>\n",
       "      <td>Men</td>\n",
       "      <td>Apparel</td>\n",
       "      <td>Topwear</td>\n",
       "      <td>Tshirts</td>\n",
       "      <td>Purple</td>\n",
       "      <td>Summer</td>\n",
       "      <td>2012.0</td>\n",
       "      <td>Casual</td>\n",
       "      <td>Proline Men Purple Polo T-Shirt</td>\n",
       "    </tr>\n",
       "    <tr>\n",
       "      <th>57491</th>\n",
       "      <td>Men</td>\n",
       "      <td>Footwear</td>\n",
       "      <td>Shoes</td>\n",
       "      <td>Formal Shoes</td>\n",
       "      <td>Brown</td>\n",
       "      <td>Summer</td>\n",
       "      <td>2012.0</td>\n",
       "      <td>Casual</td>\n",
       "      <td>Lee Cooper Men Brown Formal Shoes</td>\n",
       "    </tr>\n",
       "    <tr>\n",
       "      <th>3183</th>\n",
       "      <td>Women</td>\n",
       "      <td>Footwear</td>\n",
       "      <td>Shoes</td>\n",
       "      <td>Sports Shoes</td>\n",
       "      <td>Grey</td>\n",
       "      <td>Summer</td>\n",
       "      <td>2011.0</td>\n",
       "      <td>Sports</td>\n",
       "      <td>Nike Women Lunarfly Grey Green Shoe</td>\n",
       "    </tr>\n",
       "    <tr>\n",
       "      <th>31714</th>\n",
       "      <td>Women</td>\n",
       "      <td>Accessories</td>\n",
       "      <td>Jewellery</td>\n",
       "      <td>Earrings</td>\n",
       "      <td>Silver</td>\n",
       "      <td>Winter</td>\n",
       "      <td>2016.0</td>\n",
       "      <td>Ethnic</td>\n",
       "      <td>Fabindia Women Anusuya Silver Earrings</td>\n",
       "    </tr>\n",
       "    <tr>\n",
       "      <th>49877</th>\n",
       "      <td>Women</td>\n",
       "      <td>Accessories</td>\n",
       "      <td>Watches</td>\n",
       "      <td>Watches</td>\n",
       "      <td>Black</td>\n",
       "      <td>Winter</td>\n",
       "      <td>2016.0</td>\n",
       "      <td>Casual</td>\n",
       "      <td>Q&amp;Q Women Black Dial Watch S073-801Y</td>\n",
       "    </tr>\n",
       "    <tr>\n",
       "      <th>56957</th>\n",
       "      <td>Women</td>\n",
       "      <td>Footwear</td>\n",
       "      <td>Shoes</td>\n",
       "      <td>Flats</td>\n",
       "      <td>Black</td>\n",
       "      <td>Winter</td>\n",
       "      <td>2012.0</td>\n",
       "      <td>Casual</td>\n",
       "      <td>HM Women Black Flats</td>\n",
       "    </tr>\n",
       "    <tr>\n",
       "      <th>47682</th>\n",
       "      <td>Men</td>\n",
       "      <td>Footwear</td>\n",
       "      <td>Shoes</td>\n",
       "      <td>Casual Shoes</td>\n",
       "      <td>Black</td>\n",
       "      <td>Spring</td>\n",
       "      <td>2013.0</td>\n",
       "      <td>Casual</td>\n",
       "      <td>Carlton London Men Black Leather Casual Shoes</td>\n",
       "    </tr>\n",
       "    <tr>\n",
       "      <th>19098</th>\n",
       "      <td>Women</td>\n",
       "      <td>Apparel</td>\n",
       "      <td>Topwear</td>\n",
       "      <td>Kurtas</td>\n",
       "      <td>Beige</td>\n",
       "      <td>Fall</td>\n",
       "      <td>2011.0</td>\n",
       "      <td>Ethnic</td>\n",
       "      <td>Mother Earth Women Embroided Beige Kurta</td>\n",
       "    </tr>\n",
       "    <tr>\n",
       "      <th>21507</th>\n",
       "      <td>Women</td>\n",
       "      <td>Accessories</td>\n",
       "      <td>Bags</td>\n",
       "      <td>Handbags</td>\n",
       "      <td>Brown</td>\n",
       "      <td>Winter</td>\n",
       "      <td>2015.0</td>\n",
       "      <td>Casual</td>\n",
       "      <td>Kiara Women Sporty Look Brown Handbag</td>\n",
       "    </tr>\n",
       "    <tr>\n",
       "      <th>18386</th>\n",
       "      <td>Men</td>\n",
       "      <td>Apparel</td>\n",
       "      <td>Innerwear</td>\n",
       "      <td>Briefs</td>\n",
       "      <td>Blue</td>\n",
       "      <td>Summer</td>\n",
       "      <td>2016.0</td>\n",
       "      <td>Casual</td>\n",
       "      <td>Undercolors of Benetton Men Blue Tanga Brief</td>\n",
       "    </tr>\n",
       "    <tr>\n",
       "      <th>20619</th>\n",
       "      <td>Women</td>\n",
       "      <td>Accessories</td>\n",
       "      <td>Bags</td>\n",
       "      <td>Handbags</td>\n",
       "      <td>Pink</td>\n",
       "      <td>Winter</td>\n",
       "      <td>2015.0</td>\n",
       "      <td>Casual</td>\n",
       "      <td>Baggit Women Penguin Baby Pink Handbag</td>\n",
       "    </tr>\n",
       "    <tr>\n",
       "      <th>4834</th>\n",
       "      <td>Men</td>\n",
       "      <td>Apparel</td>\n",
       "      <td>Bottomwear</td>\n",
       "      <td>Track Pants</td>\n",
       "      <td>Brown</td>\n",
       "      <td>Summer</td>\n",
       "      <td>2011.0</td>\n",
       "      <td>Sports</td>\n",
       "      <td>ADIDAS Men's Woven Sand Track Pant</td>\n",
       "    </tr>\n",
       "    <tr>\n",
       "      <th>27176</th>\n",
       "      <td>Men</td>\n",
       "      <td>Apparel</td>\n",
       "      <td>Topwear</td>\n",
       "      <td>Shirts</td>\n",
       "      <td>White</td>\n",
       "      <td>Summer</td>\n",
       "      <td>2012.0</td>\n",
       "      <td>Formal</td>\n",
       "      <td>Mark Taylor Men Striped White Shirt</td>\n",
       "    </tr>\n",
       "    <tr>\n",
       "      <th>1794</th>\n",
       "      <td>Unisex</td>\n",
       "      <td>Accessories</td>\n",
       "      <td>Bags</td>\n",
       "      <td>Backpacks</td>\n",
       "      <td>Brown</td>\n",
       "      <td>Summer</td>\n",
       "      <td>2011.0</td>\n",
       "      <td>Sports</td>\n",
       "      <td>Newfeel Brown 22L Bag</td>\n",
       "    </tr>\n",
       "    <tr>\n",
       "      <th>33103</th>\n",
       "      <td>Women</td>\n",
       "      <td>Footwear</td>\n",
       "      <td>Shoes</td>\n",
       "      <td>Casual Shoes</td>\n",
       "      <td>Black</td>\n",
       "      <td>Winter</td>\n",
       "      <td>2015.0</td>\n",
       "      <td>Casual</td>\n",
       "      <td>Catwalk Women Black Casual Shoes</td>\n",
       "    </tr>\n",
       "    <tr>\n",
       "      <th>23310</th>\n",
       "      <td>Women</td>\n",
       "      <td>Apparel</td>\n",
       "      <td>Topwear</td>\n",
       "      <td>Kurtas</td>\n",
       "      <td>Green</td>\n",
       "      <td>Fall</td>\n",
       "      <td>2011.0</td>\n",
       "      <td>Ethnic</td>\n",
       "      <td>W Women Green Striped Kurta</td>\n",
       "    </tr>\n",
       "    <tr>\n",
       "      <th>45095</th>\n",
       "      <td>Women</td>\n",
       "      <td>Apparel</td>\n",
       "      <td>Loungewear and Nightwear</td>\n",
       "      <td>Night suits</td>\n",
       "      <td>Silver</td>\n",
       "      <td>Winter</td>\n",
       "      <td>2015.0</td>\n",
       "      <td>Casual</td>\n",
       "      <td>Bwitch Silver Pyjama Set</td>\n",
       "    </tr>\n",
       "    <tr>\n",
       "      <th>42922</th>\n",
       "      <td>Women</td>\n",
       "      <td>Accessories</td>\n",
       "      <td>Wallets</td>\n",
       "      <td>Wallets</td>\n",
       "      <td>Orange</td>\n",
       "      <td>Summer</td>\n",
       "      <td>2012.0</td>\n",
       "      <td>Casual</td>\n",
       "      <td>French Connection Women Orange Wallet</td>\n",
       "    </tr>\n",
       "    <tr>\n",
       "      <th>25761</th>\n",
       "      <td>Men</td>\n",
       "      <td>Apparel</td>\n",
       "      <td>Topwear</td>\n",
       "      <td>Suspenders</td>\n",
       "      <td>Black</td>\n",
       "      <td>Summer</td>\n",
       "      <td>2012.0</td>\n",
       "      <td>Formal</td>\n",
       "      <td>Lino Perros Men Black Suspenders</td>\n",
       "    </tr>\n",
       "    <tr>\n",
       "      <th>22581</th>\n",
       "      <td>Women</td>\n",
       "      <td>Apparel</td>\n",
       "      <td>Topwear</td>\n",
       "      <td>Sweatshirts</td>\n",
       "      <td>Purple</td>\n",
       "      <td>Fall</td>\n",
       "      <td>2011.0</td>\n",
       "      <td>Sports</td>\n",
       "      <td>Nike Women Solid Purple Sweatshirt</td>\n",
       "    </tr>\n",
       "    <tr>\n",
       "      <th>53378</th>\n",
       "      <td>Women</td>\n",
       "      <td>Footwear</td>\n",
       "      <td>Flip Flops</td>\n",
       "      <td>Flip Flops</td>\n",
       "      <td>Blue</td>\n",
       "      <td>Summer</td>\n",
       "      <td>2012.0</td>\n",
       "      <td>Casual</td>\n",
       "      <td>Puma Women Blue Body Train Flip Flops</td>\n",
       "    </tr>\n",
       "  </tbody>\n",
       "</table>\n",
       "<p>1000 rows × 9 columns</p>\n",
       "</div>"
      ],
      "text/plain": [
       "       gender masterCategory               subCategory          articleType  \\\n",
       "9733      Men        Apparel                   Topwear               Shirts   \n",
       "14147     Men    Accessories                 Cufflinks            Cufflinks   \n",
       "52112   Women        Apparel                   Topwear               Kurtis   \n",
       "6400      Men       Footwear                    Sandal              Sandals   \n",
       "34297   Women        Apparel                   Topwear              Dupatta   \n",
       "24084   Women       Footwear                     Shoes                Heels   \n",
       "12536   Women        Apparel                   Topwear          Sweatshirts   \n",
       "54563   Women        Apparel                   Topwear               Tunics   \n",
       "15259   Women       Footwear                     Shoes         Casual Shoes   \n",
       "35189  Unisex    Accessories                      Bags            Backpacks   \n",
       "44770     Men       Footwear                     Shoes         Casual Shoes   \n",
       "4217    Girls        Apparel                   Topwear              Tshirts   \n",
       "47279     Men       Footwear                     Shoes         Formal Shoes   \n",
       "36480     Men       Footwear                     Shoes         Casual Shoes   \n",
       "16750   Women    Accessories                      Bags             Clutches   \n",
       "50705   Women        Apparel                   Topwear                 Tops   \n",
       "26693  Unisex    Accessories                      Bags          Waist Pouch   \n",
       "37946   Women        Apparel                   Topwear               Tunics   \n",
       "3578      Men       Footwear                    Sandal       Sports Sandals   \n",
       "40516     Men    Accessories                   Watches              Watches   \n",
       "10321   Women    Accessories                      Bags             Handbags   \n",
       "16988     Men       Footwear                Flip Flops           Flip Flops   \n",
       "59047   Women       Footwear                     Shoes                Heels   \n",
       "2666    Women    Accessories                      Bags             Handbags   \n",
       "41608     Men        Apparel                   Topwear               Shirts   \n",
       "46167   Women    Accessories                 Jewellery  Necklace and Chains   \n",
       "5109    Women        Apparel                   Topwear                 Tops   \n",
       "46601   Women       Footwear                     Shoes                Heels   \n",
       "11981     Men       Footwear                     Shoes         Sports Shoes   \n",
       "20584   Women    Accessories                   Wallets              Wallets   \n",
       "...       ...            ...                       ...                  ...   \n",
       "27610     Men        Apparel                Bottomwear             Trousers   \n",
       "19926     Men    Accessories               Accessories   Accessory Gift Set   \n",
       "28523     Men        Apparel                   Topwear              Tshirts   \n",
       "41595     Men        Apparel                   Topwear               Shirts   \n",
       "5294    Women        Apparel                   Topwear              Tshirts   \n",
       "51786   Women        Apparel                 Innerwear                  Bra   \n",
       "21261  Unisex    Accessories                      Bags            Backpacks   \n",
       "50498     Men        Apparel                 Innerwear      Innerwear Vests   \n",
       "31072   Women        Apparel                   Topwear              Dupatta   \n",
       "26268     Men        Apparel                   Topwear              Tshirts   \n",
       "57491     Men       Footwear                     Shoes         Formal Shoes   \n",
       "3183    Women       Footwear                     Shoes         Sports Shoes   \n",
       "31714   Women    Accessories                 Jewellery             Earrings   \n",
       "49877   Women    Accessories                   Watches              Watches   \n",
       "56957   Women       Footwear                     Shoes                Flats   \n",
       "47682     Men       Footwear                     Shoes         Casual Shoes   \n",
       "19098   Women        Apparel                   Topwear               Kurtas   \n",
       "21507   Women    Accessories                      Bags             Handbags   \n",
       "18386     Men        Apparel                 Innerwear               Briefs   \n",
       "20619   Women    Accessories                      Bags             Handbags   \n",
       "4834      Men        Apparel                Bottomwear          Track Pants   \n",
       "27176     Men        Apparel                   Topwear               Shirts   \n",
       "1794   Unisex    Accessories                      Bags            Backpacks   \n",
       "33103   Women       Footwear                     Shoes         Casual Shoes   \n",
       "23310   Women        Apparel                   Topwear               Kurtas   \n",
       "45095   Women        Apparel  Loungewear and Nightwear          Night suits   \n",
       "42922   Women    Accessories                   Wallets              Wallets   \n",
       "25761     Men        Apparel                   Topwear           Suspenders   \n",
       "22581   Women        Apparel                   Topwear          Sweatshirts   \n",
       "53378   Women       Footwear                Flip Flops           Flip Flops   \n",
       "\n",
       "      baseColour  season    year   usage  \\\n",
       "9733       Green    Fall  2011.0  Casual   \n",
       "14147      Steel    Fall  2011.0  Formal   \n",
       "52112      Multi  Summer  2012.0  Ethnic   \n",
       "6400       Black  Summer  2011.0  Casual   \n",
       "34297       Gold  Summer  2012.0  Ethnic   \n",
       "24084     Bronze  Winter  2015.0  Casual   \n",
       "12536      Black    Fall  2011.0  Casual   \n",
       "54563      White  Summer  2012.0  Casual   \n",
       "15259      White    Fall  2011.0  Casual   \n",
       "35189        Red  Summer  2015.0  Casual   \n",
       "44770      Black  Summer  2012.0  Casual   \n",
       "4217        Blue  Summer  2011.0  Casual   \n",
       "47279      Brown  Summer  2013.0  Formal   \n",
       "36480      Brown  Spring  2013.0  Casual   \n",
       "16750      Beige  Winter  2015.0  Casual   \n",
       "50705      Cream  Summer  2012.0  Casual   \n",
       "26693      Black  Winter  2015.0  Casual   \n",
       "37946    Mustard  Summer  2012.0  Casual   \n",
       "3578       Black  Summer  2011.0  Casual   \n",
       "40516      White  Winter  2016.0  Casual   \n",
       "10321      Black  Winter  2015.0  Casual   \n",
       "16988      Black    Fall  2011.0  Casual   \n",
       "59047      Black  Winter  2012.0  Casual   \n",
       "2666        Grey  Winter  2015.0  Casual   \n",
       "41608       Blue  Summer  2012.0  Casual   \n",
       "46167      Beige  Winter  2015.0  Casual   \n",
       "5109       Black  Summer  2011.0  Casual   \n",
       "46601       Gold  Winter  2012.0  Casual   \n",
       "11981      Black    Fall  2011.0  Sports   \n",
       "20584      Green  Winter  2015.0  Casual   \n",
       "...          ...     ...     ...     ...   \n",
       "27610       Grey  Summer  2012.0  Casual   \n",
       "19926      Black    Fall  2011.0  Formal   \n",
       "28523       Grey  Summer  2012.0  Casual   \n",
       "41595      Brown  Summer  2012.0  Casual   \n",
       "5294        Blue  Summer  2011.0  Casual   \n",
       "51786     Purple  Summer  2016.0  Casual   \n",
       "21261      Black  Summer  2011.0  Casual   \n",
       "50498     Maroon  Winter  2016.0  Casual   \n",
       "31072       Blue  Summer  2012.0  Ethnic   \n",
       "26268     Purple  Summer  2012.0  Casual   \n",
       "57491      Brown  Summer  2012.0  Casual   \n",
       "3183        Grey  Summer  2011.0  Sports   \n",
       "31714     Silver  Winter  2016.0  Ethnic   \n",
       "49877      Black  Winter  2016.0  Casual   \n",
       "56957      Black  Winter  2012.0  Casual   \n",
       "47682      Black  Spring  2013.0  Casual   \n",
       "19098      Beige    Fall  2011.0  Ethnic   \n",
       "21507      Brown  Winter  2015.0  Casual   \n",
       "18386       Blue  Summer  2016.0  Casual   \n",
       "20619       Pink  Winter  2015.0  Casual   \n",
       "4834       Brown  Summer  2011.0  Sports   \n",
       "27176      White  Summer  2012.0  Formal   \n",
       "1794       Brown  Summer  2011.0  Sports   \n",
       "33103      Black  Winter  2015.0  Casual   \n",
       "23310      Green    Fall  2011.0  Ethnic   \n",
       "45095     Silver  Winter  2015.0  Casual   \n",
       "42922     Orange  Summer  2012.0  Casual   \n",
       "25761      Black  Summer  2012.0  Formal   \n",
       "22581     Purple    Fall  2011.0  Sports   \n",
       "53378       Blue  Summer  2012.0  Casual   \n",
       "\n",
       "                                      productDisplayName  \n",
       "9733               Indian Terrain Men Chase Green Shirts  \n",
       "14147       Belmonte Men Bright Assorted Steel Cufflinks  \n",
       "52112                  Myntra Women Multi Coloured Kurti  \n",
       "6400                   Lotto Men Laos Black Grey Floater  \n",
       "34297                 Fabindia Women Gold Tussar Dupatta  \n",
       "24084                         Catwalk Women Bronze Flats  \n",
       "12536                 Puma Women Solid Black Sweatshirts  \n",
       "54563              Global Desi Women White Printed Tunic  \n",
       "15259  ADIDAS Originals Women Top Ten low Sleek White...  \n",
       "35189                Wildcraft Unisex Red Solid Backpack  \n",
       "44770                     Globalite Men Black Skid Shoes  \n",
       "4217       Disney Kids Girl's Blue Disney Jeans Kidswear  \n",
       "47279                Franco Leone Men Brown Formal Shoes  \n",
       "36480                      Spinn Men Benzeen Brown Shoes  \n",
       "16750  Spice Art Women Gun Metal Leatherette Metallic...  \n",
       "50705             Latin Quarters Women Cream Printed Top  \n",
       "26693          Wildcraft Unisex Casual Black Waist Pouch  \n",
       "37946                        Mineral Women Mustard Tunic  \n",
       "3578            ADIDAS Men Black Cherokee Sports Sandals  \n",
       "40516                         Titan Men White Dial Watch  \n",
       "10321                    Murcia Women TMK Black Handbags  \n",
       "16988                       Puma Men Miami Black Slipper  \n",
       "59047                   Carlton London Women Black Heels  \n",
       "2666                   Murcia Women Casual Tote Grey Bag  \n",
       "41608                              Basics Men Blue Shirt  \n",
       "46167                 Adrika Women Beige & Pink Necklace  \n",
       "5109             Wrangler Women Long Polka White Red Top  \n",
       "46601                  Catwalk Women Gold Coloured Heels  \n",
       "11981                FILA Men Intense Black Sports Shoes  \n",
       "20584              Baggit Women Karma Mayur Green Wallet  \n",
       "...                                                  ...  \n",
       "27610                         Scullers Men Grey Trousers  \n",
       "19926  Reid & Taylor Men Formal Black Tie+Cufflink+Po...  \n",
       "28523           Nike Men Man U SS Authentic Grey T-shirt  \n",
       "41595                     Basics Men Brown Striped Shirt  \n",
       "5294               Puma Women's Ess Striped Blue T-shirt  \n",
       "51786                                  Bwitch Purple Bra  \n",
       "21261                      Skybags Unisex Black Backpack  \n",
       "50498               Chromozome Men Maroon Innerwear Vest  \n",
       "31072                 Fabindia Women Blue Tussar Dupatta  \n",
       "26268                    Proline Men Purple Polo T-Shirt  \n",
       "57491                  Lee Cooper Men Brown Formal Shoes  \n",
       "3183                 Nike Women Lunarfly Grey Green Shoe  \n",
       "31714             Fabindia Women Anusuya Silver Earrings  \n",
       "49877               Q&Q Women Black Dial Watch S073-801Y  \n",
       "56957                               HM Women Black Flats  \n",
       "47682      Carlton London Men Black Leather Casual Shoes  \n",
       "19098           Mother Earth Women Embroided Beige Kurta  \n",
       "21507              Kiara Women Sporty Look Brown Handbag  \n",
       "18386       Undercolors of Benetton Men Blue Tanga Brief  \n",
       "20619             Baggit Women Penguin Baby Pink Handbag  \n",
       "4834                  ADIDAS Men's Woven Sand Track Pant  \n",
       "27176                Mark Taylor Men Striped White Shirt  \n",
       "1794                               Newfeel Brown 22L Bag  \n",
       "33103                   Catwalk Women Black Casual Shoes  \n",
       "23310                        W Women Green Striped Kurta  \n",
       "45095                           Bwitch Silver Pyjama Set  \n",
       "42922              French Connection Women Orange Wallet  \n",
       "25761                   Lino Perros Men Black Suspenders  \n",
       "22581                 Nike Women Solid Purple Sweatshirt  \n",
       "53378              Puma Women Blue Body Train Flip Flops  \n",
       "\n",
       "[1000 rows x 9 columns]"
      ]
     },
     "execution_count": 76,
     "metadata": {},
     "output_type": "execute_result"
    }
   ],
   "source": [
    "aa = wear_pics[0:1000].index\n",
    "bb = wearable_df.loc[aa,:]\n",
    "bb"
   ]
  },
  {
   "cell_type": "code",
   "execution_count": 80,
   "metadata": {},
   "outputs": [],
   "source": [
    "bb['category_group'] = bb['masterCategory'].apply(lambda x: 0 if x =='Apparel' else (1 if x=='Accessories' else 2))\n",
    "bb['cluster_group'] = cc\n",
    "dd = bb[['category_group', 'cluster_group']]"
   ]
  },
  {
   "cell_type": "code",
   "execution_count": 82,
   "metadata": {},
   "outputs": [
    {
     "data": {
      "text/html": [
       "<div>\n",
       "<style scoped>\n",
       "    .dataframe tbody tr th:only-of-type {\n",
       "        vertical-align: middle;\n",
       "    }\n",
       "\n",
       "    .dataframe tbody tr th {\n",
       "        vertical-align: top;\n",
       "    }\n",
       "\n",
       "    .dataframe thead th {\n",
       "        text-align: right;\n",
       "    }\n",
       "</style>\n",
       "<table border=\"1\" class=\"dataframe\">\n",
       "  <thead>\n",
       "    <tr style=\"text-align: right;\">\n",
       "      <th></th>\n",
       "      <th>category_group</th>\n",
       "    </tr>\n",
       "    <tr>\n",
       "      <th>cluster_group</th>\n",
       "      <th></th>\n",
       "    </tr>\n",
       "  </thead>\n",
       "  <tbody>\n",
       "    <tr>\n",
       "      <th>0</th>\n",
       "      <td>425</td>\n",
       "    </tr>\n",
       "    <tr>\n",
       "      <th>1</th>\n",
       "      <td>70</td>\n",
       "    </tr>\n",
       "    <tr>\n",
       "      <th>2</th>\n",
       "      <td>2</td>\n",
       "    </tr>\n",
       "  </tbody>\n",
       "</table>\n",
       "</div>"
      ],
      "text/plain": [
       "               category_group\n",
       "cluster_group                \n",
       "0                         425\n",
       "1                          70\n",
       "2                           2"
      ]
     },
     "execution_count": 82,
     "metadata": {},
     "output_type": "execute_result"
    }
   ],
   "source": [
    "dd[dd['category_group']==0].groupby('cluster_group').count()"
   ]
  },
  {
   "cell_type": "code",
   "execution_count": 83,
   "metadata": {},
   "outputs": [
    {
     "data": {
      "text/html": [
       "<div>\n",
       "<style scoped>\n",
       "    .dataframe tbody tr th:only-of-type {\n",
       "        vertical-align: middle;\n",
       "    }\n",
       "\n",
       "    .dataframe tbody tr th {\n",
       "        vertical-align: top;\n",
       "    }\n",
       "\n",
       "    .dataframe thead th {\n",
       "        text-align: right;\n",
       "    }\n",
       "</style>\n",
       "<table border=\"1\" class=\"dataframe\">\n",
       "  <thead>\n",
       "    <tr style=\"text-align: right;\">\n",
       "      <th></th>\n",
       "      <th>category_group</th>\n",
       "    </tr>\n",
       "    <tr>\n",
       "      <th>cluster_group</th>\n",
       "      <th></th>\n",
       "    </tr>\n",
       "  </thead>\n",
       "  <tbody>\n",
       "    <tr>\n",
       "      <th>0</th>\n",
       "      <td>70</td>\n",
       "    </tr>\n",
       "    <tr>\n",
       "      <th>1</th>\n",
       "      <td>195</td>\n",
       "    </tr>\n",
       "    <tr>\n",
       "      <th>2</th>\n",
       "      <td>6</td>\n",
       "    </tr>\n",
       "  </tbody>\n",
       "</table>\n",
       "</div>"
      ],
      "text/plain": [
       "               category_group\n",
       "cluster_group                \n",
       "0                          70\n",
       "1                         195\n",
       "2                           6"
      ]
     },
     "execution_count": 83,
     "metadata": {},
     "output_type": "execute_result"
    }
   ],
   "source": [
    "dd[dd['category_group']==1].groupby('cluster_group').count()"
   ]
  },
  {
   "cell_type": "code",
   "execution_count": 84,
   "metadata": {},
   "outputs": [
    {
     "data": {
      "text/html": [
       "<div>\n",
       "<style scoped>\n",
       "    .dataframe tbody tr th:only-of-type {\n",
       "        vertical-align: middle;\n",
       "    }\n",
       "\n",
       "    .dataframe tbody tr th {\n",
       "        vertical-align: top;\n",
       "    }\n",
       "\n",
       "    .dataframe thead th {\n",
       "        text-align: right;\n",
       "    }\n",
       "</style>\n",
       "<table border=\"1\" class=\"dataframe\">\n",
       "  <thead>\n",
       "    <tr style=\"text-align: right;\">\n",
       "      <th></th>\n",
       "      <th>category_group</th>\n",
       "    </tr>\n",
       "    <tr>\n",
       "      <th>cluster_group</th>\n",
       "      <th></th>\n",
       "    </tr>\n",
       "  </thead>\n",
       "  <tbody>\n",
       "    <tr>\n",
       "      <th>0</th>\n",
       "      <td>6</td>\n",
       "    </tr>\n",
       "    <tr>\n",
       "      <th>1</th>\n",
       "      <td>224</td>\n",
       "    </tr>\n",
       "    <tr>\n",
       "      <th>2</th>\n",
       "      <td>2</td>\n",
       "    </tr>\n",
       "  </tbody>\n",
       "</table>\n",
       "</div>"
      ],
      "text/plain": [
       "               category_group\n",
       "cluster_group                \n",
       "0                           6\n",
       "1                         224\n",
       "2                           2"
      ]
     },
     "execution_count": 84,
     "metadata": {},
     "output_type": "execute_result"
    }
   ],
   "source": [
    "dd[dd['category_group']==2].groupby('cluster_group').count()"
   ]
  },
  {
   "cell_type": "code",
   "execution_count": 85,
   "metadata": {},
   "outputs": [],
   "source": [
    "clust2 = AgglomerativeClustering(n_clusters=2).fit(wear_pics[0:1000])"
   ]
  },
  {
   "cell_type": "code",
   "execution_count": 86,
   "metadata": {},
   "outputs": [],
   "source": [
    "aa2 = wear_pics[0:1000].index\n",
    "bb2 = wearable_df.loc[aa2,:]\n",
    "cc2 = clust2.labels_"
   ]
  },
  {
   "cell_type": "code",
   "execution_count": 88,
   "metadata": {},
   "outputs": [],
   "source": [
    "bb2['category_group'] = bb2['masterCategory'].apply(lambda x: 0 if x =='Apparel' else 1)\n",
    "bb2['cluster_group'] = cc2\n",
    "dd2 = bb2[['category_group', 'cluster_group']]"
   ]
  },
  {
   "cell_type": "code",
   "execution_count": 89,
   "metadata": {},
   "outputs": [
    {
     "data": {
      "text/html": [
       "<div>\n",
       "<style scoped>\n",
       "    .dataframe tbody tr th:only-of-type {\n",
       "        vertical-align: middle;\n",
       "    }\n",
       "\n",
       "    .dataframe tbody tr th {\n",
       "        vertical-align: top;\n",
       "    }\n",
       "\n",
       "    .dataframe thead th {\n",
       "        text-align: right;\n",
       "    }\n",
       "</style>\n",
       "<table border=\"1\" class=\"dataframe\">\n",
       "  <thead>\n",
       "    <tr style=\"text-align: right;\">\n",
       "      <th></th>\n",
       "      <th>category_group</th>\n",
       "    </tr>\n",
       "    <tr>\n",
       "      <th>cluster_group</th>\n",
       "      <th></th>\n",
       "    </tr>\n",
       "  </thead>\n",
       "  <tbody>\n",
       "    <tr>\n",
       "      <th>0</th>\n",
       "      <td>427</td>\n",
       "    </tr>\n",
       "    <tr>\n",
       "      <th>1</th>\n",
       "      <td>70</td>\n",
       "    </tr>\n",
       "  </tbody>\n",
       "</table>\n",
       "</div>"
      ],
      "text/plain": [
       "               category_group\n",
       "cluster_group                \n",
       "0                         427\n",
       "1                          70"
      ]
     },
     "execution_count": 89,
     "metadata": {},
     "output_type": "execute_result"
    }
   ],
   "source": [
    "dd2[dd2['category_group']==0].groupby('cluster_group').count()"
   ]
  },
  {
   "cell_type": "code",
   "execution_count": 90,
   "metadata": {},
   "outputs": [
    {
     "data": {
      "text/html": [
       "<div>\n",
       "<style scoped>\n",
       "    .dataframe tbody tr th:only-of-type {\n",
       "        vertical-align: middle;\n",
       "    }\n",
       "\n",
       "    .dataframe tbody tr th {\n",
       "        vertical-align: top;\n",
       "    }\n",
       "\n",
       "    .dataframe thead th {\n",
       "        text-align: right;\n",
       "    }\n",
       "</style>\n",
       "<table border=\"1\" class=\"dataframe\">\n",
       "  <thead>\n",
       "    <tr style=\"text-align: right;\">\n",
       "      <th></th>\n",
       "      <th>category_group</th>\n",
       "    </tr>\n",
       "    <tr>\n",
       "      <th>cluster_group</th>\n",
       "      <th></th>\n",
       "    </tr>\n",
       "  </thead>\n",
       "  <tbody>\n",
       "    <tr>\n",
       "      <th>0</th>\n",
       "      <td>84</td>\n",
       "    </tr>\n",
       "    <tr>\n",
       "      <th>1</th>\n",
       "      <td>419</td>\n",
       "    </tr>\n",
       "  </tbody>\n",
       "</table>\n",
       "</div>"
      ],
      "text/plain": [
       "               category_group\n",
       "cluster_group                \n",
       "0                          84\n",
       "1                         419"
      ]
     },
     "execution_count": 90,
     "metadata": {},
     "output_type": "execute_result"
    }
   ],
   "source": [
    "dd2[dd2['category_group']==1].groupby('cluster_group').count()"
   ]
  },
  {
   "cell_type": "code",
   "execution_count": 135,
   "metadata": {},
   "outputs": [],
   "source": [
    "from scipy.cluster.hierarchy import dendrogram, linkage, fclusterdata, cophenet\n",
    "#from scipy.spatial.distance import dist"
   ]
  },
  {
   "cell_type": "code",
   "execution_count": 116,
   "metadata": {},
   "outputs": [],
   "source": [
    "Z = linkage(wear_pics[0:3000], 'complete')"
   ]
  },
  {
   "cell_type": "code",
   "execution_count": 121,
   "metadata": {},
   "outputs": [
    {
     "data": {
      "text/plain": [
       "{'icoord': [[15.0, 15.0, 25.0, 25.0],\n",
       "  [5.0, 5.0, 20.0, 20.0],\n",
       "  [55.0, 55.0, 65.0, 65.0],\n",
       "  [45.0, 45.0, 60.0, 60.0],\n",
       "  [35.0, 35.0, 52.5, 52.5],\n",
       "  [12.5, 12.5, 43.75, 43.75],\n",
       "  [105.0, 105.0, 115.0, 115.0],\n",
       "  [95.0, 95.0, 110.0, 110.0],\n",
       "  [85.0, 85.0, 102.5, 102.5],\n",
       "  [75.0, 75.0, 93.75, 93.75],\n",
       "  [28.125, 28.125, 84.375, 84.375]],\n",
       " 'dcoord': [[0.0, 15813.77823292081, 15813.77823292081, 0.0],\n",
       "  [0.0, 17011.76616345287, 17011.76616345287, 15813.77823292081],\n",
       "  [0.0, 15747.385116266129, 15747.385116266129, 0.0],\n",
       "  [0.0, 16252.16591719393, 16252.16591719393, 15747.385116266129],\n",
       "  [0.0, 17264.135744369018, 17264.135744369018, 16252.16591719393],\n",
       "  [17011.76616345287,\n",
       "   18744.139003966015,\n",
       "   18744.139003966015,\n",
       "   17264.135744369018],\n",
       "  [0.0, 15773.553404353757, 15773.553404353757, 0.0],\n",
       "  [0.0, 16950.556687023585, 16950.556687023585, 15773.553404353757],\n",
       "  [0.0, 17417.880927368864, 17417.880927368864, 16950.556687023585],\n",
       "  [0.0, 21505.603990588126, 21505.603990588126, 17417.880927368864],\n",
       "  [18744.139003966015,\n",
       "   30519.808993504532,\n",
       "   30519.808993504532,\n",
       "   21505.603990588126]],\n",
       " 'ivl': ['(669)',\n",
       "  '(231)',\n",
       "  '(1367)',\n",
       "  '(203)',\n",
       "  '(93)',\n",
       "  '(36)',\n",
       "  '(356)',\n",
       "  '(31)',\n",
       "  '(3)',\n",
       "  '(2)',\n",
       "  '(2)',\n",
       "  '(7)'],\n",
       " 'leaves': [5982,\n",
       "  5979,\n",
       "  5987,\n",
       "  5985,\n",
       "  5981,\n",
       "  5980,\n",
       "  5986,\n",
       "  3039,\n",
       "  5962,\n",
       "  5973,\n",
       "  5808,\n",
       "  5984],\n",
       " 'color_list': ['g', 'g', 'g', 'g', 'g', 'g', 'r', 'r', 'r', 'b', 'b']}"
      ]
     },
     "execution_count": 121,
     "metadata": {},
     "output_type": "execute_result"
    },
    {
     "data": {
      "image/png": "[encoded data removed]",
      "text/plain": [
       "<Figure size 432x432 with 1 Axes>"
      ]
     },
     "metadata": {
      "needs_background": "light"
     },
     "output_type": "display_data"
    }
   ],
   "source": [
    "plt.figure(figsize=(6,6))\n",
    "dendrogram(Z, truncate_mode='lastp', p=12, leaf_rotation=45, leaf_font_size=15, show_contracted=True)"
   ]
  },
  {
   "cell_type": "code",
   "execution_count": 118,
   "metadata": {},
   "outputs": [
    {
     "data": {
      "text/plain": [
       "<Figure size 504x504 with 0 Axes>"
      ]
     },
     "execution_count": 118,
     "metadata": {},
     "output_type": "execute_result"
    },
    {
     "data": {
      "text/plain": [
       "<Figure size 504x504 with 0 Axes>"
      ]
     },
     "metadata": {},
     "output_type": "display_data"
    }
   ],
   "source": [
    "Z2 = linkage(wear_pics[0:3000], 'ward')"
   ]
  },
  {
   "cell_type": "code",
   "execution_count": 120,
   "metadata": {},
   "outputs": [
    {
     "data": {
      "text/plain": [
       "{'icoord': [[15.0, 15.0, 25.0, 25.0],\n",
       "  [5.0, 5.0, 20.0, 20.0],\n",
       "  [35.0, 35.0, 45.0, 45.0],\n",
       "  [12.5, 12.5, 40.0, 40.0],\n",
       "  [75.0, 75.0, 85.0, 85.0],\n",
       "  [105.0, 105.0, 115.0, 115.0],\n",
       "  [95.0, 95.0, 110.0, 110.0],\n",
       "  [80.0, 80.0, 102.5, 102.5],\n",
       "  [65.0, 65.0, 91.25, 91.25],\n",
       "  [55.0, 55.0, 78.125, 78.125],\n",
       "  [26.25, 26.25, 66.5625, 66.5625]],\n",
       " 'dcoord': [[0.0, 57896.95806492854, 57896.95806492854, 0.0],\n",
       "  [0.0, 72229.05998878936, 72229.05998878936, 57896.95806492854],\n",
       "  [0.0, 104771.8397594494, 104771.8397594494, 0.0],\n",
       "  [72229.05998878936,\n",
       "   114163.51576558308,\n",
       "   114163.51576558308,\n",
       "   104771.8397594494],\n",
       "  [0.0, 61055.728619963316, 61055.728619963316, 0.0],\n",
       "  [0.0, 80175.62843942312, 80175.62843942312, 0.0],\n",
       "  [0.0, 83870.45764179341, 83870.45764179341, 80175.62843942312],\n",
       "  [61055.728619963316,\n",
       "   108635.61319071666,\n",
       "   108635.61319071666,\n",
       "   83870.45764179341],\n",
       "  [0.0, 124248.71005286061, 124248.71005286061, 108635.61319071666],\n",
       "  [0.0, 192031.05537051935, 192031.05537051935, 124248.71005286061],\n",
       "  [114163.51576558308,\n",
       "   240809.6003805163,\n",
       "   240809.6003805163,\n",
       "   192031.05537051935]],\n",
       " 'ivl': ['(273)',\n",
       "  '(282)',\n",
       "  '(309)',\n",
       "  '(213)',\n",
       "  '(385)',\n",
       "  '(32)',\n",
       "  '(418)',\n",
       "  '(197)',\n",
       "  '(439)',\n",
       "  '(185)',\n",
       "  '(130)',\n",
       "  '(137)'],\n",
       " 'leaves': [5977,\n",
       "  5967,\n",
       "  5969,\n",
       "  5985,\n",
       "  5986,\n",
       "  5925,\n",
       "  5984,\n",
       "  5962,\n",
       "  5987,\n",
       "  5983,\n",
       "  5975,\n",
       "  5980],\n",
       " 'color_list': ['g', 'g', 'g', 'g', 'r', 'r', 'r', 'r', 'r', 'b', 'b']}"
      ]
     },
     "execution_count": 120,
     "metadata": {},
     "output_type": "execute_result"
    },
    {
     "data": {
      "image/png": "[encoded data removed]",
      "text/plain": [
       "<Figure size 432x432 with 1 Axes>"
      ]
     },
     "metadata": {
      "needs_background": "light"
     },
     "output_type": "display_data"
    }
   ],
   "source": [
    "plt.figure(figsize=(6,6))\n",
    "dendrogram(Z2, truncate_mode='lastp', p=12, leaf_rotation=45, leaf_font_size=15, show_contracted=True)"
   ]
  },
  {
   "cell_type": "code",
   "execution_count": 140,
   "metadata": {},
   "outputs": [],
   "source": [
    "W = fclusterdata(Z2, t=1)"
   ]
  },
  {
   "cell_type": "code",
   "execution_count": 142,
   "metadata": {},
   "outputs": [
    {
     "data": {
      "text/plain": [
       "(2999,)"
      ]
     },
     "execution_count": 142,
     "metadata": {},
     "output_type": "execute_result"
    }
   ],
   "source": [
    "W.shape"
   ]
  },
  {
   "cell_type": "code",
   "execution_count": 145,
   "metadata": {},
   "outputs": [],
   "source": [
    "import seaborn as sns\n",
    "from time import time\n",
    "from sklearn.manifold import TSNE\n",
    "%matplotlib inline"
   ]
  },
  {
   "cell_type": "code",
   "execution_count": 180,
   "metadata": {},
   "outputs": [],
   "source": [
    "XX = TSNE(n_components=2, n_iter=1000, perplexity=100).fit_transform(pic_df[0:1000])"
   ]
  },
  {
   "cell_type": "code",
   "execution_count": 166,
   "metadata": {},
   "outputs": [
    {
     "data": {
      "text/plain": [
       "(1000, 2)"
      ]
     },
     "execution_count": 166,
     "metadata": {},
     "output_type": "execute_result"
    }
   ],
   "source": [
    "XX.shape"
   ]
  },
  {
   "cell_type": "code",
   "execution_count": 183,
   "metadata": {},
   "outputs": [
    {
     "data": {
      "text/plain": [
       "<matplotlib.collections.PathCollection at 0x4bda07dd8>"
      ]
     },
     "execution_count": 183,
     "metadata": {},
     "output_type": "execute_result"
    },
    {
     "data": {
      "image/png": "[encoded data removed]",
      "text/plain": [
       "<Figure size 432x288 with 1 Axes>"
      ]
     },
     "metadata": {
      "needs_background": "light"
     },
     "output_type": "display_data"
    }
   ],
   "source": [
    "plt.scatter(XX[:,0],XX[:,1], color=df.colors[0:1000], alpha=.7)"
   ]
  },
  {
   "cell_type": "code",
   "execution_count": 160,
   "metadata": {},
   "outputs": [
    {
     "data": {
      "text/plain": [
       "Apparel          45\n",
       "Accessories      27\n",
       "Footwear         23\n",
       "Personal Care     5\n",
       "Name: masterCategory, dtype: int64"
      ]
     },
     "execution_count": 160,
     "metadata": {},
     "output_type": "execute_result"
    }
   ],
   "source": [
    "df[0:1000]['masterCategory'].value_counts()"
   ]
  },
  {
   "cell_type": "code",
   "execution_count": 163,
   "metadata": {},
   "outputs": [],
   "source": [
    "colors = {'Apparel':'orange','Accessories':'teal','Footwear':'red', 'Personal Care':'grey', 'Free Items':'yellow', 'Sporting Goods':'black', 'Home':'magenta'}\n",
    "df['colors'] = df['masterCategory'].apply(lambda x: colors[x])"
   ]
  },
  {
   "cell_type": "code",
   "execution_count": null,
   "metadata": {},
   "outputs": [],
   "source": [
    "Apparel\n",
    "Accessories\n",
    "Footwear\n",
    "Personal Care\n",
    "Free Items\n",
    "Sporting Goods\n",
    "Home"
   ]
  },
  {
   "cell_type": "code",
   "execution_count": null,
   "metadata": {},
   "outputs": [],
   "source": [
    "{'dark cyan':'#008B8B', 'grey':'#808080', \"medium_turquoise\":'#BA55D3', 'coral':'#F08080', 'dark red':'#8B0000', 'dark orange':'#FF8C00', 'light orange':'#F4A460'}"
   ]
  },
  {
   "cell_type": "code",
   "execution_count": null,
   "metadata": {},
   "outputs": [],
   "source": []
  },
  {
   "cell_type": "code",
   "execution_count": null,
   "metadata": {},
   "outputs": [],
   "source": []
  },
  {
   "cell_type": "code",
   "execution_count": 15,
   "metadata": {},
   "outputs": [
    {
     "ename": "SyntaxError",
     "evalue": "invalid syntax (<ipython-input-15-2de62df7843d>, line 1)",
     "output_type": "error",
     "traceback": [
      "\u001b[0;36m  File \u001b[0;32m\"<ipython-input-15-2de62df7843d>\"\u001b[0;36m, line \u001b[0;32m1\u001b[0m\n\u001b[0;31m    load load\u001b[0m\n\u001b[0m            ^\u001b[0m\n\u001b[0;31mSyntaxError\u001b[0m\u001b[0;31m:\u001b[0m invalid syntax\n"
     ]
    }
   ],
   "source": []
  },
  {
   "cell_type": "code",
   "execution_count": null,
   "metadata": {},
   "outputs": [],
   "source": []
  },
  {
   "cell_type": "code",
   "execution_count": null,
   "metadata": {},
   "outputs": [],
   "source": []
  },
  {
   "cell_type": "code",
   "execution_count": null,
   "metadata": {},
   "outputs": [],
   "source": []
  }
 ],
 "metadata": {
  "kernelspec": {
   "display_name": "Python 3",
   "language": "python",
   "name": "python3"
  },
  "language_info": {
   "codemirror_mode": {
    "name": "ipython",
    "version": 3
   },
   "file_extension": ".py",
   "mimetype": "text/x-python",
   "name": "python",
   "nbconvert_exporter": "python",
   "pygments_lexer": "ipython3",
   "version": "3.7.1"
  }
 },
 "nbformat": 4,
 "nbformat_minor": 2
}
