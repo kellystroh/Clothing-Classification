{
 "cells": [
  {
   "cell_type": "code",
   "execution_count": 1,
   "metadata": {},
   "outputs": [],
   "source": [
    "import numpy as np\n",
    "import pandas as pd\n",
    "import matplotlib.pyplot as plt\n",
    "%matplotlib inline "
   ]
  },
  {
   "cell_type": "code",
   "execution_count": 2,
   "metadata": {},
   "outputs": [],
   "source": [
    "df = pd.read_csv('data/styles.csv', error_bad_lines=False)"
   ]
  },
  {
   "cell_type": "code",
   "execution_count": 3,
   "metadata": {},
   "outputs": [],
   "source": [
    "bw_img = np.load('data/bw_array.npy')"
   ]
  },
  {
   "cell_type": "code",
   "execution_count": 4,
   "metadata": {},
   "outputs": [],
   "source": [
    "all_img = np.load('data/image_array.npy')"
   ]
  },
  {
   "cell_type": "code",
   "execution_count": 4,
   "metadata": {},
   "outputs": [],
   "source": [
    "from subset_df import wearable_subset, top2_subset"
   ]
  },
  {
   "cell_type": "code",
   "execution_count": 5,
   "metadata": {},
   "outputs": [],
   "source": [
    "df1, bw_img1 = wearable_subset(df, bw_img)"
   ]
  },
  {
   "cell_type": "code",
   "execution_count": 6,
   "metadata": {},
   "outputs": [],
   "source": [
    "df2, bw_img2 = top2_subset(df, bw_img)"
   ]
  },
  {
   "cell_type": "code",
   "execution_count": 7,
   "metadata": {},
   "outputs": [],
   "source": [
    "df_cut = df1[0:3000].copy()\n",
    "bw_img_cut = bw_img1[0:3000].copy()"
   ]
  },
  {
   "cell_type": "code",
   "execution_count": 8,
   "metadata": {},
   "outputs": [],
   "source": [
    "df_cut2 = df2[0:3000].copy()\n",
    "bw_img_cut2 = bw_img2[0:3000].copy()"
   ]
  },
  {
   "cell_type": "code",
   "execution_count": 9,
   "metadata": {},
   "outputs": [],
   "source": [
    "from sklearn.cluster import AgglomerativeClustering"
   ]
  },
  {
   "cell_type": "code",
   "execution_count": 10,
   "metadata": {},
   "outputs": [],
   "source": [
    "three_clust = AgglomerativeClustering(n_clusters=3).fit(bw_img_cut)"
   ]
  },
  {
   "cell_type": "code",
   "execution_count": 11,
   "metadata": {},
   "outputs": [],
   "source": [
    "df_cut.loc[:,'Cluster_Number'] = three_clust.labels_"
   ]
  },
  {
   "cell_type": "code",
   "execution_count": 12,
   "metadata": {},
   "outputs": [],
   "source": [
    "df_cut.loc[:, 'Category_Number'] = df_cut['masterCategory'].apply(lambda x: 0 if x =='Apparel' else (1 if x=='Accessories' else 2))"
   ]
  },
  {
   "cell_type": "code",
   "execution_count": 13,
   "metadata": {},
   "outputs": [
    {
     "data": {
      "text/plain": [
       "[array([269, 944, 259]), array([133, 579, 135]), array([128, 421, 132])]"
      ]
     },
     "execution_count": 13,
     "metadata": {},
     "output_type": "execute_result"
    }
   ],
   "source": [
    "clust_by_cat = []\n",
    "for x in range(3):\n",
    "    w = df_cut[df_cut['Category_Number']==x].groupby('Cluster_Number').count()['masterCategory'].values\n",
    "    clust_by_cat.append(w)\n",
    "clust_by_cat"
   ]
  },
  {
   "cell_type": "code",
   "execution_count": 14,
   "metadata": {},
   "outputs": [],
   "source": [
    "pivot_df = pd.DataFrame(clust_by_cat, index=['Apparel','Accessories', 'Footwear'], columns=['Cluster 1', 'Cluster 2', 'Cluster 3'])"
   ]
  },
  {
   "cell_type": "code",
   "execution_count": 15,
   "metadata": {
    "scrolled": true
   },
   "outputs": [
    {
     "data": {
      "text/html": [
       "<div>\n",
       "<style scoped>\n",
       "    .dataframe tbody tr th:only-of-type {\n",
       "        vertical-align: middle;\n",
       "    }\n",
       "\n",
       "    .dataframe tbody tr th {\n",
       "        vertical-align: top;\n",
       "    }\n",
       "\n",
       "    .dataframe thead th {\n",
       "        text-align: right;\n",
       "    }\n",
       "</style>\n",
       "<table border=\"1\" class=\"dataframe\">\n",
       "  <thead>\n",
       "    <tr style=\"text-align: right;\">\n",
       "      <th></th>\n",
       "      <th>Apparel</th>\n",
       "      <th>Accessories</th>\n",
       "      <th>Footwear</th>\n",
       "    </tr>\n",
       "  </thead>\n",
       "  <tbody>\n",
       "    <tr>\n",
       "      <th>Cluster 1</th>\n",
       "      <td>269</td>\n",
       "      <td>133</td>\n",
       "      <td>128</td>\n",
       "    </tr>\n",
       "    <tr>\n",
       "      <th>Cluster 2</th>\n",
       "      <td>944</td>\n",
       "      <td>579</td>\n",
       "      <td>421</td>\n",
       "    </tr>\n",
       "    <tr>\n",
       "      <th>Cluster 3</th>\n",
       "      <td>259</td>\n",
       "      <td>135</td>\n",
       "      <td>132</td>\n",
       "    </tr>\n",
       "  </tbody>\n",
       "</table>\n",
       "</div>"
      ],
      "text/plain": [
       "           Apparel  Accessories  Footwear\n",
       "Cluster 1      269          133       128\n",
       "Cluster 2      944          579       421\n",
       "Cluster 3      259          135       132"
      ]
     },
     "execution_count": 15,
     "metadata": {},
     "output_type": "execute_result"
    }
   ],
   "source": [
    "piv_df = pivot_df.transpose()\n",
    "piv_df"
   ]
  },
  {
   "cell_type": "code",
   "execution_count": 16,
   "metadata": {},
   "outputs": [
    {
     "data": {
      "text/html": [
       "<div>\n",
       "<style scoped>\n",
       "    .dataframe tbody tr th:only-of-type {\n",
       "        vertical-align: middle;\n",
       "    }\n",
       "\n",
       "    .dataframe tbody tr th {\n",
       "        vertical-align: top;\n",
       "    }\n",
       "\n",
       "    .dataframe thead th {\n",
       "        text-align: right;\n",
       "    }\n",
       "</style>\n",
       "<table border=\"1\" class=\"dataframe\">\n",
       "  <thead>\n",
       "    <tr style=\"text-align: right;\">\n",
       "      <th></th>\n",
       "      <th>Apparel</th>\n",
       "      <th>Accessories</th>\n",
       "      <th>Footwear</th>\n",
       "    </tr>\n",
       "  </thead>\n",
       "  <tbody>\n",
       "    <tr>\n",
       "      <th>Cluster 1</th>\n",
       "      <td>50.75</td>\n",
       "      <td>25.09</td>\n",
       "      <td>24.15</td>\n",
       "    </tr>\n",
       "    <tr>\n",
       "      <th>Cluster 2</th>\n",
       "      <td>48.56</td>\n",
       "      <td>29.78</td>\n",
       "      <td>21.66</td>\n",
       "    </tr>\n",
       "    <tr>\n",
       "      <th>Cluster 3</th>\n",
       "      <td>49.24</td>\n",
       "      <td>25.67</td>\n",
       "      <td>25.10</td>\n",
       "    </tr>\n",
       "  </tbody>\n",
       "</table>\n",
       "</div>"
      ],
      "text/plain": [
       "           Apparel  Accessories  Footwear\n",
       "Cluster 1    50.75        25.09     24.15\n",
       "Cluster 2    48.56        29.78     21.66\n",
       "Cluster 3    49.24        25.67     25.10"
      ]
     },
     "execution_count": 16,
     "metadata": {},
     "output_type": "execute_result"
    }
   ],
   "source": [
    "pct_df = (100 * pivot_df / pivot_df.sum(axis=0)).round(2).transpose()\n",
    "pct_df"
   ]
  },
  {
   "cell_type": "code",
   "execution_count": 17,
   "metadata": {},
   "outputs": [],
   "source": [
    "x_pos = pd.DataFrame([[80, 285, 425],[500, 1250, 1750 ],[85, 288, 422]])"
   ]
  },
  {
   "cell_type": "code",
   "execution_count": 18,
   "metadata": {},
   "outputs": [
    {
     "data": {
      "image/png": "[encoded data removed]",
      "text/plain": [
       "<Figure size 1080x432 with 1 Axes>"
      ]
     },
     "metadata": {
      "needs_background": "light"
     },
     "output_type": "display_data"
    }
   ],
   "source": [
    "ax = piv_df.loc[ ['Cluster 3','Cluster 2', 'Cluster 1'], :].plot.barh(stacked=True, figsize=(15,6), color=['#FF6347','#48D1CC','#FFA500'])\n",
    "for row in range(3):\n",
    "    for col in range(3):\n",
    "        ax.text(x=x_pos.iloc[row,col], y=row-.18 , s=' {0} \\n \\n {1}%'.format(piv_df.iloc[row,col],int(pct_df.iloc[row,col])), fontsize=12, fontweight='bold')\n",
    "\n"
   ]
  },
  {
   "cell_type": "code",
   "execution_count": 19,
   "metadata": {},
   "outputs": [],
   "source": [
    "two_clust = AgglomerativeClustering(n_clusters=2).fit(bw_img_cut2)"
   ]
  },
  {
   "cell_type": "code",
   "execution_count": 20,
   "metadata": {},
   "outputs": [],
   "source": [
    "df_cut2.loc[:,'Cluster_Number'] = two_clust.labels_\n",
    "df_cut2.loc[:, 'Category_Number'] = df_cut2['masterCategory'].apply(lambda x: 0 if x =='Apparel' else 1)"
   ]
  },
  {
   "cell_type": "code",
   "execution_count": 21,
   "metadata": {},
   "outputs": [
    {
     "data": {
      "text/plain": [
       "[array([928, 964]), array([517, 591]), array([], dtype=int64)]"
      ]
     },
     "execution_count": 21,
     "metadata": {},
     "output_type": "execute_result"
    }
   ],
   "source": [
    "clust_by_cat2 = []\n",
    "for x in range(3):\n",
    "    w = df_cut2[df_cut2['Category_Number']==x].groupby('Cluster_Number').count()['masterCategory'].values\n",
    "    clust_by_cat2.append(w)\n",
    "clust_by_cat2"
   ]
  },
  {
   "cell_type": "code",
   "execution_count": null,
   "metadata": {},
   "outputs": [],
   "source": []
  }
 ],
 "metadata": {
  "kernelspec": {
   "display_name": "Python 3",
   "language": "python",
   "name": "python3"
  },
  "language_info": {
   "codemirror_mode": {
    "name": "ipython",
    "version": 3
   },
   "file_extension": ".py",
   "mimetype": "text/x-python",
   "name": "python",
   "nbconvert_exporter": "python",
   "pygments_lexer": "ipython3",
   "version": "3.7.1"
  }
 },
 "nbformat": 4,
 "nbformat_minor": 2
}
